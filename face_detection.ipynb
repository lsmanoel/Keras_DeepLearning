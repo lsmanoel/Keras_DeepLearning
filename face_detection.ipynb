{
  "nbformat": 4,
  "nbformat_minor": 0,
  "metadata": {
    "colab": {
      "name": "face_detection.ipynb",
      "version": "0.3.2",
      "provenance": [],
      "collapsed_sections": [],
      "include_colab_link": true
    },
    "kernelspec": {
      "name": "python3",
      "display_name": "Python 3"
    }
  },
  "cells": [
    {
      "cell_type": "markdown",
      "metadata": {
        "id": "view-in-github",
        "colab_type": "text"
      },
      "source": [
        "<a href=\"https://colab.research.google.com/github/lsmanoel/pythonLearningAndDeepLearning/blob/master/face_detection.ipynb\" target=\"_parent\"><img src=\"https://colab.research.google.com/assets/colab-badge.svg\" alt=\"Open In Colab\"/></a>"
      ]
    },
    {
      "metadata": {
        "id": "otSkVM7QrHhu",
        "colab_type": "text"
      },
      "cell_type": "markdown",
      "source": [
        "Hi... in this notes I will shown how to detect faces with different tools present in the Dlib and OpenCV packages. \n",
        "We will detect diferent faces and place a Bounding Box in each detected face. First we use Haar Cascade technique using only OpenCV package.\n",
        "\n",
        "The Bounding Box in OpenCV is defined by a reference pixel coordinate (the left top pixel of Box) and the width e hight of the Bounding Box.\n",
        "\n",
        "LEFT, TOP, WIDTH, HEIGHT.\n",
        "\n",
        "With this four data we can draw a Bounding Box on the analized image that indicate the detected face.\n",
        "\n",
        "The Haar Cascade technique consists of detecting the features Haar in the image. The exemple of Haar characteristics (the features Haar) is shown bellow:\n",
        "![alt text](https://docs.opencv.org/3.0-beta/_images/haarfeatures.png)\n",
        "Each type of pattern in the analyzed image tends to have a similar amount of features Haar. Soon this technique uses this similarity to identify patterns in the image.\n",
        "The classification system is composed of a series cascade filter capturing characteristics. Similar to AND logic, for the image to be classified like ¨Detected Object¨, the different features Haar must be correlated with all filters (one filter to each features Haar): F1, F2, F3... \n",
        "![alt text](http://3.bp.blogspot.com/-EiP9XkuzQFU/Vft_kUVaTwI/AAAAAAAADxE/recSE2ctlRY/s1600/2.png).\n",
        "These filters are trained with a dataset composed of positive and negative images. The positive images are the patterns that we wish detect and the negative images are the patterns which should not be detected.\n",
        "\n"
      ]
    },
    {
      "metadata": {
        "id": "wPTO0qVWBGXe",
        "colab_type": "text"
      },
      "cell_type": "markdown",
      "source": [
        "Lets TRY... \n",
        "\n",
        "![alt text](http://blogs.discovermagazine.com/neuroskeptic/files/2018/04/tom_cruise_lol.png)"
      ]
    },
    {
      "metadata": {
        "id": "Wq5oCVHP-Ec_",
        "colab_type": "code",
        "colab": {}
      },
      "cell_type": "code",
      "source": [
        "import cv2\n",
        "\n",
        "imagem = cv2.imread(\"tom_cruise_lol.png\")\n",
        "classificador = cv2.CascadeClassifier(\"recursos/haarcascade_frontalface_default.xml\")\n",
        "imagemCinza = cv2.cvtColor(imagem, cv2.COLOR_BGR2GRAY)\n",
        "facesDetectadas = classificador.detectMultiScale(imagemCinza, scaleFactor=1.2, minSize=(50,50))\n",
        "print(facesDetectadas)\n",
        "print(\"Faces detectadas: \", len(facesDetectadas))\n",
        "for (x, y, l, a) in facesDetectadas:\n",
        "    cv2.rectangle(imagem, (x, y), (x + l, y + a), (0, 255, 0), 2)\n",
        "\n",
        "cv2.imshow(\"Detector haar\", imagem)\n",
        "cv2.waitKey(0)\n",
        "\n",
        "cv2.destroyAllWindows()"
      ],
      "execution_count": 0,
      "outputs": []
    },
    {
      "metadata": {
        "id": "J4holIsYq1UW",
        "colab_type": "code",
        "colab": {}
      },
      "cell_type": "code",
      "source": [
        ""
      ],
      "execution_count": 0,
      "outputs": []
    }
  ]
}
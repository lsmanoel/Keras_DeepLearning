{
  "nbformat": 4,
  "nbformat_minor": 0,
  "metadata": {
    "colab": {
      "name": "Tensorflow_RNN_stockPrediction.ipynb",
      "version": "0.3.2",
      "provenance": [],
      "collapsed_sections": [],
      "include_colab_link": true
    },
    "kernelspec": {
      "name": "python3",
      "display_name": "Python 3"
    }
  },
  "cells": [
    {
      "cell_type": "markdown",
      "metadata": {
        "id": "view-in-github",
        "colab_type": "text"
      },
      "source": [
        "<a href=\"https://colab.research.google.com/github/lsmanoel/pythonLearningAndDeepLearning/blob/master/RNN/Tensorflow_RNN_stockPrediction.ipynb\" target=\"_parent\"><img src=\"https://colab.research.google.com/assets/colab-badge.svg\" alt=\"Open In Colab\"/></a>"
      ]
    },
    {
      "metadata": {
        "id": "LQfjXY-XrTFR",
        "colab_type": "text"
      },
      "cell_type": "markdown",
      "source": [
        "# Tensorflow RNN Stock Prediction"
      ]
    },
    {
      "metadata": {
        "id": "iNMGCyYUxtgD",
        "colab_type": "text"
      },
      "cell_type": "markdown",
      "source": [
        "**Alpha Vantage Stock Data API**\n",
        "\n",
        "[alphavantage.co](https://www.alphavantage.co/)\n",
        "\n",
        "API key: LAFE0OQUFL56YEPA (Free Account)"
      ]
    },
    {
      "metadata": {
        "id": "8K7LiMj06q9z",
        "colab_type": "code",
        "colab": {}
      },
      "cell_type": "code",
      "source": [
        "import matplotlib.pyplot as plt\n",
        "import numpy as np\n",
        "import pandas as pd\n",
        "\n",
        "class StockList:\n",
        "  #-----------------------------------------------------------------------------\n",
        "  def __init__(self, stock_list=None, data_period_type='TIME_SERIES_DAILY_ADJUSTED'):\n",
        "    self.stock_list_N = 0\n",
        "    self.data_period_type = data_period_type\n",
        "    self.stock_list = []\n",
        "    self.stock_data_list=[]\n",
        "    \n",
        "    if stock_list == None: pass\n",
        "    else: self.append_StockDataList(stock_list)\n",
        "  \n",
        "  #-----------------------------------------------------------------------------\n",
        "  def get_NumberOfStocks(self): return self.stock_list_N\n",
        "  \n",
        "  #-----------------------------------------------------------------------------\n",
        "  def get_StockList(self): return self.stock_list\n",
        "\n",
        "  #-----------------------------------------------------------------------------\n",
        "  def print_StockList(self):\n",
        "    for i, stock in enumerate(self.stock_list): print(i+1, stock[0], stock[1])\n",
        "  \n",
        "  #-----------------------------------------------------------------------------\n",
        "  def get_StockData(self, stock_symbol):\n",
        "    stock_index = [stock_index for stock_index, stock in enumerate(self.stock_list) if stock[0] == stock_symbol]  \n",
        "    if stock_index==[]: print(\"stock symbol not found!\") \n",
        "    else: return self.stock_data_list[stock_index[0]]\n",
        "  \n",
        "  #-----------------------------------------------------------------------------\n",
        "  def append_StockData(self, stock):\n",
        "    self.stock_list_N += 1\n",
        "    self.stock_list.append(stock)\n",
        "    stock_symbol = stock[0]\n",
        "    stock_name = stock[1]\n",
        "    url='https://www.alphavantage.co/query?function='+self.data_period_type+'&symbol='+stock_symbol+'&apikey=LAFE0OQUFL56YEPA&datatype=csv' \n",
        "    self.stock_data_list.append(pd.read_csv(url))\n",
        "    print(self.stock_list_N, stock_symbol, stock_name, self.stock_data_list[-1].shape)\n",
        "\n",
        "  #-----------------------------------------------------------------------------\n",
        "  def remove_StockData(self, stock_symbol):\n",
        "    stock_index=[stock_index for stock_index, stock in enumerate(self.stock_list) if stock[0] == stock_symbol]  \n",
        "    if stock_index==[]: print(\"stock symbol not found!\")\n",
        "    else:\n",
        "      stock_index=stock_index[0]\n",
        "      print(\"index:\",stock_index, stock_symbol, \"Removed!\")\n",
        "      del self.stock_list[stock_index]\n",
        "      del self.stock_data_list[stock_index]\n",
        "      self.stock_list_N -= 1\n",
        "\n",
        "  #-----------------------------------------------------------------------------\n",
        "  def append_StockDataList(self, stock_list):\n",
        "    if len(stock_list)>5:\n",
        "      print(\"Len:\", len(stock_list), \" -> List is too big... Appends only 5 stocks at a time of 1 minute!\")\n",
        "    else:\n",
        "      for stock in stock_list:\n",
        "        self.append_StockData(stock)\n",
        "    \n",
        "  #-----------------------------------------------------------------------------\n",
        "  def get_StockPhaseTable(self, stock_phase='close'):\n",
        "    if stock_phase in ('open', 'close', 'high', 'low', 'volume'):\n",
        "      stock_phase_table = pd.DataFrame()\n",
        "      for i, stock_data in enumerate(self.stock_data_list):\n",
        "        stock_data_temp = stock_data[stock_phase]\n",
        "        stock_phase_table = pd.concat([stock_phase_table, \n",
        "                                       stock_data_temp.rename(self.stock_list[i][0])], \n",
        "                                      axis=1)\n",
        "      return stock_phase_table\n",
        "    \n",
        "    elif stock_phase == 'mean2':\n",
        "      stock_phase_table = pd.DataFrame()\n",
        "      for i, stock_data in enumerate(self.stock_data_list):\n",
        "        stock_data_temp = (stock_data['open']+stock_data['close'])/2\n",
        "        stock_phase_table = pd.concat([stock_phase_table, \n",
        "                                       stock_data_temp.rename(self.stock_list[i][0])], \n",
        "                                      axis=1)\n",
        "      return stock_phase_table\n",
        "    \n",
        "    elif stock_phase == 'mean4':\n",
        "      stock_phase_table = pd.DataFrame()\n",
        "      for i, stock_data in enumerate(self.stock_data_list):\n",
        "        stock_data_temp = (stock_data['open']+stock_data['close']+stock_data['high']+stock_data['low'])/4\n",
        "        stock_phase_table = pd.concat([stock_phase_table, \n",
        "                                       stock_data_temp.rename(self.stock_list[i][0])], \n",
        "                                      axis=1)\n",
        "      return stock_phase_table\n",
        "    \n",
        "    else: \n",
        "      print(\"invalid stock phase!\")\n",
        "\n",
        "    \n",
        "\n",
        "      \n",
        "  #-----------------------------------------------------------------------------  \n",
        "  def correlation_StockPhaseTable(self, stock_phase='close'):    \n",
        "    return self.get_StockPhaseTable(stock_phase).corr()\n",
        "    \n",
        "  #=============================================================================\n",
        "  #Plotters Method:\n",
        "  #-----------------------------------------------------------------------------\n",
        "  def plot_candles_AllStocksData(self, plot_size=30):\n",
        "    for i, stock_data in enumerate(self.stock_data_list):\n",
        "      cols = list(stock_data.columns.values)\n",
        "      data_plot_format = stock_data[[cols[0], cols[1], cols[4], cols[2], cols[3], cols[6]]]\n",
        "      \n",
        "      self.plot_candles(data_plot_format[:plot_size], \n",
        "                   self.data_period_type, \n",
        "                   title = self.stock_list[i][0], \n",
        "                   volume_bars=True)\n",
        "\n",
        "  #-----------------------------------------------------------------------------\n",
        "  def plot_candles_StockData(self, stock_symbol, plot_size=30):\n",
        "    stock_index = [stock_index for stock_index, stock in enumerate(self.stock_list) if stock[0] == stock_symbol]    \n",
        "    if stock_index==[]: print(\"stock symbol not found!\")\n",
        "    else:\n",
        "      stock_data = self.stock_data_list[stock_index[0]]\n",
        "\n",
        "      cols = list(stock_data.columns.values)\n",
        "      data_plot_format = stock_data[[cols[0], cols[1], cols[4], cols[2], cols[3], cols[6]]]\n",
        "\n",
        "      self.plot_candles(data_plot_format[:plot_size], \n",
        "                   self.data_period_type, \n",
        "                   title = stock_symbol, \n",
        "                   volume_bars = True)\n",
        "  \n",
        "  \n",
        "  #-----------------------------------------------------------------------------  \n",
        "  \"\"\"This cell defineds the plot_candles function\"\"\"\n",
        "  def plot_candles(self, pricing, data_period_type='TIME_SERIES_DAILY_ADJUSTED', title=None, volume_bars=False, color_function=None, technicals=None):\n",
        "    \"\"\" Plots a candlestick chart using quantopian pricing data.\n",
        "\n",
        "    Author: Daniel Treiman\n",
        "\n",
        "    Args:\n",
        "      pricing: A pandas dataframe with columns ['open_price', 'close_price', 'high', 'low', 'volume']\n",
        "      title: An optional title for the chart\n",
        "      volume_bars: If True, plots volume bars\n",
        "      color_function: A function which, given a row index and price series, returns a candle color.\n",
        "      technicals: A list of additional data series to add to the chart.  Must be the same length as pricing.\n",
        "    \"\"\"\n",
        "    def default_color(index, open_price, close_price, low, high):\n",
        "      return 'r' if open_price[index] > close_price[index] else 'g'\n",
        "\n",
        "    color_function = color_function or default_color\n",
        "    technicals = technicals or []\n",
        "    open_price = pricing['open']\n",
        "    close_price = pricing['close']\n",
        "    low = pricing['low']\n",
        "    high = pricing['high']\n",
        "    oc_min = pd.concat([open_price, close_price], axis=1).min(axis=1)\n",
        "    oc_max = pd.concat([open_price, close_price], axis=1).max(axis=1)\n",
        "\n",
        "    if volume_bars:\n",
        "      fig, (ax1, ax2) = plt.subplots(2, 1, \n",
        "                                     figsize=(12,12), \n",
        "                                     sharex=True, \n",
        "                                     gridspec_kw={'height_ratios': [3,1]})\n",
        "    else:\n",
        "      fig, ax1 = plt.subplots(1, 1)\n",
        "\n",
        "    if title:\n",
        "      ax1.set_title(title)\n",
        "\n",
        "    x = np.arange(len(pricing))\n",
        "    candle_colors = [color_function(i, open_price, close_price, low, high) for i in x]\n",
        "    candles = ax1.bar(x, oc_max-oc_min, bottom=oc_min, color=candle_colors, linewidth=0)\n",
        "    lines = ax1.vlines(x, low, high, color=candle_colors, linewidth=2)\n",
        "    ax1.xaxis.grid(False)\n",
        "    ax1.xaxis.set_tick_params(which='major', length=3.0, direction='in', top=False)\n",
        "    \n",
        "    # Assume minute frequency if first two bars are in the same day.\n",
        "    if data_period_type == 'TIME_SERIES_INTRADAY':\n",
        "      time_format = '%H:%M'\n",
        "    else:\n",
        "      time_format = '%d-%m-%Y'\n",
        "\n",
        "    # Set X axis tick labels.\n",
        "    plt.xticks(x, [date for date in pricing['timestamp']], rotation='vertical')\n",
        "    for indicator in technicals:\n",
        "      ax1.plot(x, indicator)\n",
        "\n",
        "    if volume_bars:\n",
        "      volume = pricing['volume']\n",
        "      volume_scale = None\n",
        "      scaled_volume = volume\n",
        "      \n",
        "      if volume.max() > 1000000:\n",
        "          volume_scale = 'M'\n",
        "          scaled_volume = volume / 1000000\n",
        "      elif volume.max() > 1000:\n",
        "          volume_scale = 'K'\n",
        "          scaled_volume = volume / 1000\n",
        "          \n",
        "      ax2.bar(x, scaled_volume, color=candle_colors)\n",
        "      volume_title = 'Volume'\n",
        "      \n",
        "      if volume_scale:\n",
        "          volume_title = 'Volume (%s)' % volume_scale\n",
        "          \n",
        "      ax2.set_title(volume_title)\n",
        "      ax2.xaxis.grid(False)"
      ],
      "execution_count": 0,
      "outputs": []
    },
    {
      "metadata": {
        "id": "-FBinS9j1pus",
        "colab_type": "text"
      },
      "cell_type": "markdown",
      "source": [
        "Bovespa Stock Symbols:"
      ]
    },
    {
      "metadata": {
        "id": "UO6p5_OZHqMu",
        "colab_type": "code",
        "outputId": "872fc6bf-65c6-4a93-84ba-7f9619bee8e5",
        "colab": {
          "base_uri": "https://localhost:8080/",
          "height": 104
        }
      },
      "cell_type": "code",
      "source": [
        "banks_stock=[]\n",
        "banks_stock.append(('BBAS3.SA', \"BANCO DO BRASIL ON\"))\n",
        "banks_stock.append(('ITUB3.SA', \"ITAU UNIBANCO ON\"))\n",
        "banks_stock.append(('BRSR6.SA', \"BANRISUL PNB\"))\n",
        "banks_stock.append(('BBDC3.SA', \"BRADESCO ON\"))\n",
        "banks_stock.append(('SANB11.SA', \"SANTANDER BR UNT\"))\n",
        "\n",
        "banks_stock_2=[]\n",
        "banks_stock_2.append(('BBDC4.SA', \"BRADESCO PN\"))\n",
        "banks_stock_2.append(('ITUB4.SA', \"ITAUUNIBANCO PN\"))\n",
        "banks_stock_2.append(('BIDI4.SA', \"BANCO INTER PN\"))\n",
        "\n",
        "\n",
        "banksStockList = StockList()\n",
        "banksStockList.append_StockDataList(banks_stock)\n",
        "# banksStockList.append_StockDataList(banks_stock_2)\n",
        "\n",
        "# banksStockList.plot_candles_allStocksData(30)\n",
        "# banksStockList.plot_candles_StockData('BBDC4.SA', 30)"
      ],
      "execution_count": 2,
      "outputs": [
        {
          "output_type": "stream",
          "text": [
            "1 BBAS3.SA BANCO DO BRASIL ON (100, 9)\n",
            "2 ITUB3.SA ITAU UNIBANCO ON (100, 9)\n",
            "3 BRSR6.SA BANRISUL PNB (100, 9)\n",
            "4 BBDC3.SA BRADESCO ON (100, 9)\n",
            "5 SANB11.SA SANTANDER BR UNT (100, 9)\n"
          ],
          "name": "stdout"
        }
      ]
    },
    {
      "metadata": {
        "id": "vxDIUcHUvxc8",
        "colab_type": "code",
        "colab": {
          "base_uri": "https://localhost:8080/",
          "height": 34
        },
        "outputId": "42c16944-c68b-4de4-d53b-77a9c041c504"
      },
      "cell_type": "code",
      "source": [
        "banksStockList.get_NumberOfStocks()"
      ],
      "execution_count": 5,
      "outputs": [
        {
          "output_type": "execute_result",
          "data": {
            "text/plain": [
              "5"
            ]
          },
          "metadata": {
            "tags": []
          },
          "execution_count": 5
        }
      ]
    },
    {
      "metadata": {
        "id": "zNNe3JbHt2U9",
        "colab_type": "text"
      },
      "cell_type": "markdown",
      "source": [
        "---\n",
        "# RNN"
      ]
    },
    {
      "metadata": {
        "id": "vLg6T2jTuVR4",
        "colab_type": "code",
        "colab": {}
      },
      "cell_type": "code",
      "source": [
        "import tensorfcw as tf\n",
        "tf.reset_default_graph()"
      ],
      "execution_count": 0,
      "outputs": []
    },
    {
      "metadata": {
        "id": "T-pSPtRmAOkh",
        "colab_type": "text"
      },
      "cell_type": "markdown",
      "source": [
        "### Constants:"
      ]
    },
    {
      "metadata": {
        "id": "XbBl38LpPJmh",
        "colab_type": "text"
      },
      "cell_type": "markdown",
      "source": [
        "![alt text](https://drive.google.com/file/d/1jy0ccl3gQ9e2fIk0gF8mbaT6VsYobCCJ/view?usp=sharing)\n"
      ]
    },
    {
      "metadata": {
        "id": "MjJsMiXQAOkh",
        "colab_type": "code",
        "colab": {}
      },
      "cell_type": "code",
      "source": [
        "num_inputs = banksStockList.get_NumberOfStocks()\n",
        "num_neurons = 30\n",
        "num_outputs = banksStockList.get_NumberOfStocks()\n",
        "learning_rate = 0.0001\n",
        "num_train_iterations = 2000"
      ],
      "execution_count": 0,
      "outputs": []
    },
    {
      "metadata": {
        "id": "l6dVTOyWiZoF",
        "colab_type": "text"
      },
      "cell_type": "markdown",
      "source": [
        "**Dataset Iterator and Placeholders:**"
      ]
    },
    {
      "metadata": {
        "id": "22UukTN8hZ9S",
        "colab_type": "code",
        "colab": {}
      },
      "cell_type": "code",
      "source": [
        "import tensorflow as tf\n",
        "\n",
        "X = tf.placeholder(tf.float32, [None, shape_InputSize-1, num_inputs])\n",
        "y_true = tf.placeholder(tf.float32, [None, shape_InputSize-1, num_outputs])\n",
        "\n",
        "\n",
        "BATCH_SIZE = 1\n",
        "batch_size = tf.placeholder(tf.int64)\n",
        "train_dataset = tf.data.Dataset.from_tensor_slices((X, y_true)).batch(batch_size).shuffle(buffer_size=batch_size).repeat(None)\n",
        "test_dataset = tf.data.Dataset.from_tensor_slices((X, y_true)).batch(batch_size).repeat(None)\n",
        "\n",
        "# create a iterator of the correct shape and type\n",
        "iter = tf.data.Iterator.from_structure(train_dataset.output_types,\n",
        "                                           train_dataset.output_shapes)\n",
        "\n",
        "X_input, y_true_input = iter.get_next()\n",
        "\n",
        "# create the initialisation operations\n",
        "train_init_op = iter.make_initializer(train_dataset)\n",
        "test_init_op = iter.make_initializer(test_dataset)"
      ],
      "execution_count": 0,
      "outputs": []
    }
  ]
}
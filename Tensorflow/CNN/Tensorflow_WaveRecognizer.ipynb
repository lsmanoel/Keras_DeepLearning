{
  "nbformat": 4,
  "nbformat_minor": 0,
  "metadata": {
    "colab": {
      "name": "Tensorflow_WaveRecognizer.ipynb",
      "version": "0.3.2",
      "provenance": [],
      "collapsed_sections": [],
      "toc_visible": true,
      "include_colab_link": true
    },
    "kernelspec": {
      "name": "python3",
      "display_name": "Python 3"
    }
  },
  "cells": [
    {
      "cell_type": "markdown",
      "metadata": {
        "id": "view-in-github",
        "colab_type": "text"
      },
      "source": [
        "<a href=\"https://colab.research.google.com/github/lsmanoel/pythonLearningAndDeepLearning/blob/master/Tensorflow/CNN/Tensorflow_WaveRecognizer.ipynb\" target=\"_parent\"><img src=\"https://colab.research.google.com/assets/colab-badge.svg\" alt=\"Open In Colab\"/></a>"
      ]
    },
    {
      "metadata": {
        "id": "mcf0jZqXFvaN",
        "colab_type": "code",
        "colab": {}
      },
      "cell_type": "code",
      "source": [
        "# from google.colab import drive \n",
        "# drive.mount('/content/gdrive')"
      ],
      "execution_count": 0,
      "outputs": []
    },
    {
      "metadata": {
        "id": "TdaUc1n2KJXi",
        "colab_type": "code",
        "outputId": "ab4b8ade-cc02-471f-99f6-8b9efe06b690",
        "colab": {
          "base_uri": "https://localhost:8080/",
          "height": 107
        }
      },
      "cell_type": "code",
      "source": [
        "!pip install sounddevice"
      ],
      "execution_count": 0,
      "outputs": [
        {
          "output_type": "stream",
          "text": [
            "Collecting sounddevice\n",
            "  Downloading https://files.pythonhosted.org/packages/db/47/c4da7ae5dd111f8031f28d55d08f3f226515463ba739e6a4360a00c8cb5b/sounddevice-0.3.12-py2.py3-none-any.whl\n",
            "Requirement already satisfied: CFFI>=1.0 in /usr/local/lib/python3.6/dist-packages (from sounddevice) (1.11.5)\n",
            "Requirement already satisfied: pycparser in /usr/local/lib/python3.6/dist-packages (from CFFI>=1.0->sounddevice) (2.19)\n",
            "Installing collected packages: sounddevice\n",
            "Successfully installed sounddevice-0.3.12\n"
          ],
          "name": "stdout"
        }
      ]
    },
    {
      "metadata": {
        "id": "LE4ljq9NxqAi",
        "colab_type": "text"
      },
      "cell_type": "markdown",
      "source": [
        "---\n",
        "# Global Config"
      ]
    },
    {
      "metadata": {
        "id": "FZ-WegcT0DDV",
        "colab_type": "code",
        "colab": {}
      },
      "cell_type": "code",
      "source": [
        "import numpy as np\n",
        "\n",
        "fs = 256\n",
        "Ts = 1/fs\n",
        "NFFT = int(fs/2)  # the length of the windowing segments\n",
        "N = fs\n",
        "t=np.linspace(0, Ts*N, N)\n",
        "\n",
        "plotAllData = True\n",
        "\n",
        "wave_data_list = []\n"
      ],
      "execution_count": 0,
      "outputs": []
    },
    {
      "metadata": {
        "id": "kCrpKMVYdZA2",
        "colab_type": "text"
      },
      "cell_type": "markdown",
      "source": [
        "---\n",
        "# White Noise Generator\n",
        "\n",
        "The **Normal** (or **Gaussian** or ** Gauss** or **Laplace–Gauss**) distribution:\n",
        "\n",
        "$$\\varphi(x|\\mu, \\sigma²)=\\frac{1}{\\sqrt{2 \\pi \\sigma}}e^{-\\frac{(x-\\mu)^2}{2 \\sigma²}}$$\n",
        "\n",
        "where:\n",
        "\n",
        "*   $\\mu$ (micro)  is the **mean** or **expectation** of the distribution (and also its median and mode).\n",
        "*   $\\sigma$ (sigma) is the **standard deviation**.\n",
        "*   $\\sigma²$ is the **variance**.\n",
        "\n",
        "![alt text](https://upload.wikimedia.org/wikipedia/commons/thumb/7/74/Normal_Distribution_PDF.svg/350px-Normal_Distribution_PDF.svg.png)\n",
        "\n"
      ]
    },
    {
      "metadata": {
        "colab_type": "code",
        "id": "-AikZebbnorc",
        "outputId": "497641ab-e51c-4ae2-cadb-636be4a71fbd",
        "colab": {
          "base_uri": "https://localhost:8080/",
          "height": 15
        }
      },
      "cell_type": "code",
      "source": [
        "import numpy as np\n",
        "import matplotlib.pyplot as plt\n",
        "%matplotlib inline\n",
        "\n",
        "t=np.linspace(0, Ts*N, N)\n",
        "\n",
        "# size of x axis, mean and standard deviation\n",
        "micro, sigma = 0, 0.1\n",
        "wng_power = 1.4\n",
        "wng_wave = wng_power*np.random.normal(micro, sigma, N)\n",
        "print(wng_wave.shape)"
      ],
      "execution_count": 0,
      "outputs": [
        {
          "output_type": "stream",
          "text": [
            "(256,)\n"
          ],
          "name": "stdout"
        }
      ]
    },
    {
      "metadata": {
        "colab_type": "code",
        "id": "Cpx2-Fu-nor3",
        "outputId": "2bdf6adf-e381-4c39-8535-2ec0946b237b",
        "colab": {
          "base_uri": "https://localhost:8080/",
          "height": 253
        }
      },
      "cell_type": "code",
      "source": [
        "import matplotlib.pyplot as plt\n",
        "\n",
        "plotThisData = False\n",
        "\n",
        "if plotAllData or plotThisData:\n",
        "  plt.plot(wng_wave)\n",
        "else:\n",
        "  print(\"Plot Disabled\")\n"
      ],
      "execution_count": 0,
      "outputs": [
        {
          "output_type": "display_data",
          "data": {
            "image/png": "[encoded data removed]",
            "text/plain": [
              "<Figure size 432x288 with 1 Axes>"
            ]
          },
          "metadata": {
            "tags": []
          }
        }
      ]
    },
    {
      "metadata": {
        "id": "NTgKVsOdj-o6",
        "colab_type": "code",
        "colab": {}
      },
      "cell_type": "code",
      "source": [
        "for micro in range(10):\n",
        "  for sigma in range(200):\n",
        "    for wng_power in range(10):\n",
        "        wng_generated = (wng_power/50)*np.random.normal(micro-5.0, sigma/5, N)\n",
        "        wave_data_list.append((wng_generated, 0))"
      ],
      "execution_count": 0,
      "outputs": []
    },
    {
      "metadata": {
        "id": "kjwkGubOka8s",
        "colab_type": "code",
        "outputId": "7e90c909-cffa-4308-c3d1-f0d9aa3eba87",
        "colab": {
          "base_uri": "https://localhost:8080/",
          "height": 15
        }
      },
      "cell_type": "code",
      "source": [
        "len(wave_data_list)"
      ],
      "execution_count": 0,
      "outputs": [
        {
          "output_type": "execute_result",
          "data": {
            "text/plain": [
              "20000"
            ]
          },
          "metadata": {
            "tags": []
          },
          "execution_count": 7
        }
      ]
    },
    {
      "metadata": {
        "id": "5L1M6uUVuc5S",
        "colab_type": "text"
      },
      "cell_type": "markdown",
      "source": [
        "---\n",
        "# Sine Wave"
      ]
    },
    {
      "metadata": {
        "id": "Cd9wMgPC2rkA",
        "colab_type": "code",
        "outputId": "a449da4d-4ee0-4693-dd1c-5c8e7dd52581",
        "colab": {
          "base_uri": "https://localhost:8080/",
          "height": 15
        }
      },
      "cell_type": "code",
      "source": [
        "import numpy as np\n",
        "import matplotlib.pyplot as plt\n",
        "%matplotlib inline\n",
        "\n",
        "# size of x axis, mean and standard deviation\n",
        "sig_power = 1\n",
        "freq = 10\n",
        "sin_wave = sig_power*np.sin(2*np.pi*freq*t)\n",
        "wng_wave = 0.1*np.random.normal(0, 0.1, N)\n",
        "print(sin_wave.shape)"
      ],
      "execution_count": 0,
      "outputs": [
        {
          "output_type": "stream",
          "text": [
            "(256,)\n"
          ],
          "name": "stdout"
        }
      ]
    },
    {
      "metadata": {
        "id": "vPdrabWh69oE",
        "colab_type": "code",
        "outputId": "1758dd04-a111-46fa-f750-2ddf67180e0d",
        "colab": {
          "base_uri": "https://localhost:8080/",
          "height": 253
        }
      },
      "cell_type": "code",
      "source": [
        "import matplotlib.pyplot as plt\n",
        "\n",
        "plotThisData = False\n",
        "\n",
        "if plotAllData or plotThisData:\n",
        "  plt.plot(sin_wave+wng_wave)\n",
        "else:\n",
        "  print(\"Plot Disabled\")"
      ],
      "execution_count": 0,
      "outputs": [
        {
          "output_type": "display_data",
          "data": {
            "image/png": "[encoded data removed]",
            "text/plain": [
              "<Figure size 432x288 with 1 Axes>"
            ]
          },
          "metadata": {
            "tags": []
          }
        }
      ]
    },
    {
      "metadata": {
        "id": "DdKDZJ4HZCKx",
        "colab_type": "text"
      },
      "cell_type": "markdown",
      "source": [
        "**Sine Wave Dataset Generator:**"
      ]
    },
    {
      "metadata": {
        "id": "K6-FR5SHZBiq",
        "colab_type": "code",
        "colab": {}
      },
      "cell_type": "code",
      "source": [
        "for freq in range(20):\n",
        "  for sigma in range(10):\n",
        "    for wng_power in range(10):\n",
        "      for sig_power in range (10):\n",
        "        sin_generated = (sig_power)*np.sin(2*np.pi*(1+freq/400)*t)\n",
        "        wng_generated = (wng_power/50)*np.random.normal(0.0, sigma/5, N)\n",
        "        wave_data_list.append((sin_generated*wng_generated, 1))"
      ],
      "execution_count": 0,
      "outputs": []
    },
    {
      "metadata": {
        "id": "Sx6E8juehZDJ",
        "colab_type": "code",
        "outputId": "04800317-c8c8-4a3d-ea7f-e26f9a84f707",
        "colab": {
          "base_uri": "https://localhost:8080/",
          "height": 15
        }
      },
      "cell_type": "code",
      "source": [
        "len(wave_data_list)"
      ],
      "execution_count": 0,
      "outputs": [
        {
          "output_type": "execute_result",
          "data": {
            "text/plain": [
              "40000"
            ]
          },
          "metadata": {
            "tags": []
          },
          "execution_count": 11
        }
      ]
    },
    {
      "metadata": {
        "id": "_irUZt8mwoAT",
        "colab_type": "text"
      },
      "cell_type": "markdown",
      "source": [
        "---\n",
        "# Square Wave"
      ]
    },
    {
      "metadata": {
        "id": "IudRg_n2wmLa",
        "colab_type": "code",
        "outputId": "acfda7b4-9557-4683-bbf0-c42b1fad1357",
        "colab": {
          "base_uri": "https://localhost:8080/",
          "height": 15
        }
      },
      "cell_type": "code",
      "source": [
        "from scipy import signal\n",
        "import numpy as np\n",
        "import matplotlib.pyplot as plt\n",
        "%matplotlib inline\n",
        "\n",
        "# size of x axis, mean and standard deviation\n",
        "sig_power = 1\n",
        "freq = 1\n",
        "square_wave = sig_power*signal.square(2*np.pi*freq*t)\n",
        "print(square_wave.shape)"
      ],
      "execution_count": 0,
      "outputs": [
        {
          "output_type": "stream",
          "text": [
            "(256,)\n"
          ],
          "name": "stdout"
        }
      ]
    },
    {
      "metadata": {
        "colab_type": "code",
        "outputId": "33682c89-4528-48bb-e9fe-7860a949dedf",
        "id": "1ws1pr17y8vQ",
        "colab": {
          "base_uri": "https://localhost:8080/",
          "height": 253
        }
      },
      "cell_type": "code",
      "source": [
        "import matplotlib.pyplot as plt\n",
        "\n",
        "plotThisData = False\n",
        "\n",
        "if plotAllData or plotThisData:\n",
        "  plt.plot(square_wave)\n",
        "else:\n",
        "  print(\"Plot Disabled\")\n"
      ],
      "execution_count": 0,
      "outputs": [
        {
          "output_type": "display_data",
          "data": {
            "image/png": "[encoded data removed]",
            "text/plain": [
              "<Figure size 432x288 with 1 Axes>"
            ]
          },
          "metadata": {
            "tags": []
          }
        }
      ]
    },
    {
      "metadata": {
        "id": "gtkMerByeh3g",
        "colab_type": "text"
      },
      "cell_type": "markdown",
      "source": [
        "**Square Wave Dataset Generator:**"
      ]
    },
    {
      "metadata": {
        "id": "pXFoscN1egpK",
        "colab_type": "code",
        "colab": {}
      },
      "cell_type": "code",
      "source": [
        "for freq in range(20):\n",
        "  for sigma in range(10):\n",
        "    for wng_power in range(10):\n",
        "      for sig_power in range (10):\n",
        "        square_generated = (sig_power)*np.square(2*np.pi*(1+freq/400)*t/10)\n",
        "        wng_generated = (wng_power/50)*np.random.normal(0.0, sigma/5, N)\n",
        "        wave_data_list.append((square_generated*wng_generated, 2))"
      ],
      "execution_count": 0,
      "outputs": []
    },
    {
      "metadata": {
        "id": "b9FruiJwlMZn",
        "colab_type": "code",
        "outputId": "6773526d-0581-4fa9-ae3c-774145760c37",
        "colab": {
          "base_uri": "https://localhost:8080/",
          "height": 15
        }
      },
      "cell_type": "code",
      "source": [
        "len(wave_data_list)"
      ],
      "execution_count": 0,
      "outputs": [
        {
          "output_type": "execute_result",
          "data": {
            "text/plain": [
              "60000"
            ]
          },
          "metadata": {
            "tags": []
          },
          "execution_count": 15
        }
      ]
    },
    {
      "metadata": {
        "colab_type": "text",
        "id": "XSHltfnzFE2W"
      },
      "cell_type": "markdown",
      "source": [
        "---\n",
        "# Sawtooth Wave"
      ]
    },
    {
      "metadata": {
        "colab_type": "code",
        "outputId": "b040fd42-57e0-40be-bd8e-058857db9570",
        "id": "sWy5gOLzFE2u",
        "colab": {
          "base_uri": "https://localhost:8080/",
          "height": 15
        }
      },
      "cell_type": "code",
      "source": [
        "from scipy import signal\n",
        "import numpy as np\n",
        "import matplotlib.pyplot as plt\n",
        "%matplotlib inline\n",
        "\n",
        "# size of x axis, mean and standard deviation\n",
        "sig_power = 1\n",
        "freq = 1\n",
        "sawtooth_wave = sig_power*signal.sawtooth(2*np.pi*freq*t)\n",
        "print(sawtooth_wave.shape)"
      ],
      "execution_count": 0,
      "outputs": [
        {
          "output_type": "stream",
          "text": [
            "(256,)\n"
          ],
          "name": "stdout"
        }
      ]
    },
    {
      "metadata": {
        "colab_type": "code",
        "outputId": "99813684-8956-49b6-9e75-549bfee94f2c",
        "id": "fwTMHWN2FE23",
        "colab": {
          "base_uri": "https://localhost:8080/",
          "height": 253
        }
      },
      "cell_type": "code",
      "source": [
        "import matplotlib.pyplot as plt\n",
        "\n",
        "plotThisData = False\n",
        "\n",
        "if plotAllData or plotThisData:\n",
        "  plt.plot(sawtooth_wave)\n",
        "else:\n",
        "  print(\"Plot Disabled\")\n"
      ],
      "execution_count": 0,
      "outputs": [
        {
          "output_type": "display_data",
          "data": {
            "image/png": "[encoded data removed]",
            "text/plain": [
              "<Figure size 432x288 with 1 Axes>"
            ]
          },
          "metadata": {
            "tags": []
          }
        }
      ]
    },
    {
      "metadata": {
        "colab_type": "code",
        "id": "9fZGPL2IFE3E",
        "colab": {}
      },
      "cell_type": "code",
      "source": [
        "for freq in range(20):\n",
        "  for sigma in range(10):\n",
        "    for wng_power in range(10):\n",
        "      for sig_power in range (10):\n",
        "        sawtooth_generated = (sig_power)*signal.sawtooth(2*np.pi*(1+freq/400)*t/10)\n",
        "        wng_generated = (wng_power/100)*np.random.normal(0.0, sigma/5, N)\n",
        "        wave_data_list.append((sawtooth_generated*wng_generated, 3))"
      ],
      "execution_count": 0,
      "outputs": []
    },
    {
      "metadata": {
        "id": "byNSh10elREq",
        "colab_type": "code",
        "outputId": "a988255b-968c-49ba-d1e0-126ed0d973f6",
        "colab": {
          "base_uri": "https://localhost:8080/",
          "height": 15
        }
      },
      "cell_type": "code",
      "source": [
        "len(wave_data_list)"
      ],
      "execution_count": 0,
      "outputs": [
        {
          "output_type": "execute_result",
          "data": {
            "text/plain": [
              "80000"
            ]
          },
          "metadata": {
            "tags": []
          },
          "execution_count": 19
        }
      ]
    },
    {
      "metadata": {
        "colab_type": "text",
        "id": "Mny-xhRWF-1E"
      },
      "cell_type": "markdown",
      "source": [
        "---\n",
        "# Chirp Wave"
      ]
    },
    {
      "metadata": {
        "colab_type": "code",
        "outputId": "7df253de-d7c2-43c1-aaba-498fbe2fdbda",
        "id": "A_ElA-4QF-1F",
        "colab": {
          "base_uri": "https://localhost:8080/",
          "height": 15
        }
      },
      "cell_type": "code",
      "source": [
        "from scipy import signal\n",
        "import numpy as np\n",
        "import matplotlib.pyplot as plt\n",
        "%matplotlib inline\n",
        "\n",
        "# size of x axis, mean and standard deviation\n",
        "sig_power = 1\n",
        "freq0 = 1\n",
        "freq1 = 10\n",
        "tEnd = 1\n",
        "chirp_wave = sig_power*signal.chirp(t, f0=freq0, f1=freq1, t1=tEnd,  method='linear')\n",
        "print(chirp_wave.shape)"
      ],
      "execution_count": 0,
      "outputs": [
        {
          "output_type": "stream",
          "text": [
            "(256,)\n"
          ],
          "name": "stdout"
        }
      ]
    },
    {
      "metadata": {
        "colab_type": "code",
        "outputId": "702da7cd-cc7b-4b5c-f2ea-f57a1f1afc2b",
        "id": "T-dvDwC_F-1Q",
        "colab": {
          "base_uri": "https://localhost:8080/",
          "height": 253
        }
      },
      "cell_type": "code",
      "source": [
        "import matplotlib.pyplot as plt\n",
        "\n",
        "plotThisData = False\n",
        "\n",
        "if plotAllData or plotThisData:\n",
        "  plt.plot(chirp_wave)\n",
        "else:\n",
        "  print(\"Plot Disabled\")\n"
      ],
      "execution_count": 0,
      "outputs": [
        {
          "output_type": "display_data",
          "data": {
            "image/png": "[encoded data removed]",
            "text/plain": [
              "<Figure size 432x288 with 1 Axes>"
            ]
          },
          "metadata": {
            "tags": []
          }
        }
      ]
    },
    {
      "metadata": {
        "colab_type": "code",
        "id": "FXX3tQT7F-1V",
        "colab": {}
      },
      "cell_type": "code",
      "source": [
        "# for freq in range(10):\n",
        "#   for sigma in range(20):\n",
        "#     for wng_power in range(2):\n",
        "#       for sig_power in range (2):\n",
        "#         chirp_generated = (sig_power)*signal.chirp(t, \n",
        "#                                                       f0=(1+freq/50), \n",
        "#                                                       f1=fs/4, \n",
        "#                                                       t1=tEnd,  \n",
        "#                                                       method='linear')\n",
        "        \n",
        "#         wng_generated = (sig_power/100)*np.random.normal(0.0, sigma/5, N)\n",
        "#         wave_data_list.append((chirp_generated*wng_generated, 4))"
      ],
      "execution_count": 0,
      "outputs": []
    },
    {
      "metadata": {
        "id": "Wx6vFeZBlV5z",
        "colab_type": "code",
        "outputId": "d00a924b-eede-441c-e88c-05e749978fa9",
        "colab": {
          "base_uri": "https://localhost:8080/",
          "height": 15
        }
      },
      "cell_type": "code",
      "source": [
        "len(wave_data_list)"
      ],
      "execution_count": 0,
      "outputs": [
        {
          "output_type": "execute_result",
          "data": {
            "text/plain": [
              "80000"
            ]
          },
          "metadata": {
            "tags": []
          },
          "execution_count": 23
        }
      ]
    },
    {
      "metadata": {
        "id": "sjmYlilQw2_f",
        "colab_type": "text"
      },
      "cell_type": "markdown",
      "source": [
        "---\n",
        "# Data Preprocessing\n",
        "\n"
      ]
    },
    {
      "metadata": {
        "id": "dYs52E-EV2YL",
        "colab_type": "code",
        "outputId": "bec7e0d4-3a2d-40eb-c903-a76810e178b9",
        "colab": {
          "base_uri": "https://localhost:8080/",
          "height": 15
        }
      },
      "cell_type": "code",
      "source": [
        "print(wave_data_list[0][0].shape[0])"
      ],
      "execution_count": 0,
      "outputs": [
        {
          "output_type": "stream",
          "text": [
            "256\n"
          ],
          "name": "stdout"
        }
      ]
    },
    {
      "metadata": {
        "id": "PkhXrc9JxQ37",
        "colab_type": "code",
        "outputId": "eec41261-8fe0-4218-dacd-a883b0e2fa84",
        "colab": {
          "base_uri": "https://localhost:8080/",
          "height": 15
        }
      },
      "cell_type": "code",
      "source": [
        "import os\n",
        "import glob\n",
        "import pandas as pd\n",
        "import numpy as np\n",
        "from random import shuffle\n",
        "from sklearn.model_selection import train_test_split\n",
        "\n",
        "#===============================================================================\n",
        "# Data preprocessing:\n",
        "shuffle(wave_data_list)\n",
        "N_wave = 4\n",
        "\n",
        "# for noise_seg in noise_seg_list:\n",
        "#   print(noise_seg[0], noise_seg[1].shape)  \n",
        "\n",
        "x_data = np.full((len(wave_data_list), \n",
        "                  wave_data_list[0][0].shape[0]),\n",
        "                 0.0)\n",
        "\n",
        "y_data = np.full((len(wave_data_list), N_wave), 0.0)\n",
        "\n",
        "for i, wave_tuple in enumerate(wave_data_list):\n",
        "  x_data[i][:] = wave_tuple[0]\n",
        "  y_data[i][:] = np.eye(N_wave)[wave_tuple[1]]\n",
        "#   print(y_data[i][:], wave_tuple[1])\n",
        "\n",
        "test_x_data, train_x_data, test_y_data, train_y_data = train_test_split(x_data, \n",
        "                                                                        y_data, \n",
        "                                                                        test_size=0.25)\n",
        "\n",
        "print(test_x_data.shape, train_x_data.shape, test_y_data.shape, train_y_data.shape)  \n",
        "\n",
        "test_data = (test_x_data, test_y_data)\n",
        "train_data = (train_x_data, train_y_data)"
      ],
      "execution_count": 0,
      "outputs": [
        {
          "output_type": "stream",
          "text": [
            "(60000, 256) (20000, 256) (60000, 4) (20000, 4)\n"
          ],
          "name": "stdout"
        }
      ]
    },
    {
      "metadata": {
        "id": "l6dVTOyWiZoF",
        "colab_type": "text"
      },
      "cell_type": "markdown",
      "source": [
        "**Dataset Iterator and Placeholders:**"
      ]
    },
    {
      "metadata": {
        "id": "22UukTN8hZ9S",
        "colab_type": "code",
        "colab": {}
      },
      "cell_type": "code",
      "source": [
        "import tensorflow as tf\n",
        "\n",
        "# drop_prob_1 = tf.placeholder(tf.float32)\n",
        "\n",
        "x = tf.placeholder(tf.float32, shape=[None, \n",
        "                                      x_data.shape[1]])\n",
        "                                      \n",
        "y_true = tf.placeholder(tf.int64, \n",
        "                        shape=[None, N_wave])\n",
        "\n",
        "\n",
        "BATCH_SIZE = 1\n",
        "batch_size = tf.placeholder(tf.int64)\n",
        "train_dataset = tf.data.Dataset.from_tensor_slices((x, y_true)).batch(batch_size).shuffle(buffer_size=batch_size).repeat(None)\n",
        "test_dataset = tf.data.Dataset.from_tensor_slices((x, y_true)).batch(batch_size).shuffle(buffer_size=batch_size).repeat(None)\n",
        "\n",
        "# create a iterator of the correct shape and type\n",
        "iter = tf.data.Iterator.from_structure(train_dataset.output_types,\n",
        "                                           train_dataset.output_shapes)\n",
        "\n",
        "features, labels = iter.get_next()\n",
        "\n",
        "# create the initialisation operations\n",
        "train_init_op = iter.make_initializer(train_dataset)\n",
        "test_init_op = iter.make_initializer(test_dataset)"
      ],
      "execution_count": 0,
      "outputs": []
    },
    {
      "metadata": {
        "id": "8q40JEvGuLfT",
        "colab_type": "text"
      },
      "cell_type": "markdown",
      "source": [
        "**Helper Functions:**"
      ]
    },
    {
      "metadata": {
        "id": "0FXPNBZTuHhK",
        "colab_type": "code",
        "colab": {}
      },
      "cell_type": "code",
      "source": [
        "import tensorflow as tf\n",
        "import random\n",
        "from random import shuffle\n",
        "import numpy as np\n",
        "\n",
        "#-------------------------------------------------------------------------------\n",
        "def one_hot_convert(data, N_labels):\n",
        "  return tf.one_hot(data, N_labels) \n",
        "\n",
        "#-------------------------------------------------------------------------------\n",
        "def init_weights(shape):\n",
        "  init_random_dist = tf.truncated_normal(shape, stddev=0.1)\n",
        "  return tf.Variable(init_random_dist)\n",
        "\n",
        "#-------------------------------------------------------------------------------\n",
        "def init_bias(shape):\n",
        "  init_bias_vals = tf.constant(0.1, shape=shape)\n",
        "  return tf.Variable(init_bias_vals)\n",
        "\n",
        "#-------------------------------------------------------------------------------\n",
        "def conv1d(x, w):\n",
        "  # x --> [batch, hight, width, channels]\n",
        "  # y --> [filter hight, filter width, channels in, channels out]\n",
        "  \n",
        "  return tf.nn.conv1d(x, w, stride=1, padding='VALID')\n",
        "\n",
        "#-------------------------------------------------------------------------------\n",
        "def max_pool(x):\n",
        "  # x --> [batch, hight, width, channels]\n",
        "  return tf.nn.max_pool(x, \n",
        "                        ksize=[1, 2, 1, 1], \n",
        "                        strides=[1, 2, 1, 1], \n",
        "                        padding='VALID')\n",
        "\n",
        "#===============================================================================\n",
        "#Convolutional 1D Layer Function\n",
        "def convolutional_1d_layer(input_x, shape):\n",
        "  w = init_weights(shape)\n",
        "  b = init_bias([shape[-1]])\n",
        "  return tf.nn.relu(conv1d(input_x, w) + b)\n",
        "\n",
        "#-------------------------------------------------------------------------------\n",
        "#Fully Connected Layer Function\n",
        "def normal_full_layer(input_layer, size):\n",
        "  input_size = int(input_layer.get_shape()[1])\n",
        "  w = init_weights([input_size, size])\n",
        "  b = init_bias([size])\n",
        "  return tf.matmul(input_layer, w) + b"
      ],
      "execution_count": 0,
      "outputs": []
    },
    {
      "metadata": {
        "id": "4waHabHMqzV-",
        "colab_type": "text"
      },
      "cell_type": "markdown",
      "source": [
        "**Graph Structure Layers:**"
      ]
    },
    {
      "metadata": {
        "id": "tWMEXyW2pRH7",
        "colab_type": "code",
        "outputId": "6c71a22c-f88c-432c-c03e-db88a8150498",
        "colab": {
          "base_uri": "https://localhost:8080/",
          "height": 204
        }
      },
      "cell_type": "code",
      "source": [
        "import tensorflow as tf\n",
        "\n",
        "print(features.shape)\n",
        "\n",
        "# Spec = tf.spectral.rfft(features, fft_length=[segmentation_Size])\n",
        "# print(Spec.shape, tf.rank(Spec)) \n",
        "\n",
        "# abs_fft = tf.abs(Spec)\n",
        "# print(abs_fft.shape, tf.rank(abs_fft)) \n",
        "\n",
        "#-------------------------------------------------------------------------------\n",
        "x_input = tf.reshape(features, [-1, features.shape[-1], 1])\n",
        "print(\"x_input\", x_input.shape, tf.rank(x_input))\n",
        "\n",
        "nKernel_1 = 10\n",
        "conv_kernel_layer_1 = convolutional_1d_layer(x_input, shape=[4, 1, nKernel_1])\n",
        "print(\"conv_kernel_layer_1\", conv_kernel_layer_1.shape, tf.rank(conv_kernel_layer_1)) \n",
        "\n",
        "conv_reshape_layer_1 = tf.reshape(conv_kernel_layer_1, [-1, conv_kernel_layer_1.shape[1], 1, nKernel_1])\n",
        "print(\"conv_reshape_layer_1\", conv_reshape_layer_1.shape, tf.rank(conv_reshape_layer_1)) \n",
        "\n",
        "pool_1 = max_pool(conv_reshape_layer_1)\n",
        "print(\"pool_1\", pool_1.shape, tf.rank(pool_1)) \n",
        "\n",
        "#-------------------------------------------------------------------------------\n",
        "input_layer_2 = tf.reshape(pool_1, [-1, pool_1.shape[1], 1])\n",
        "print(\"input_layer_2\", input_layer_2.shape, tf.rank(input_layer_2))\n",
        "\n",
        "nKernel_2 = 5\n",
        "conv_kernel_layer_2 = convolutional_1d_layer(input_layer_2, shape=[2, 1, nKernel_2])\n",
        "print(\"conv_kernel_layer_2\", conv_kernel_layer_2.shape, tf.rank(conv_kernel_layer_2)) \n",
        "\n",
        "conv_reshape_layer_2 = tf.reshape(conv_kernel_layer_2, [-1, conv_kernel_layer_2.shape[1], 1, nKernel_2])\n",
        "print(\"conv_reshape_layer_2\", conv_reshape_layer_2.shape, tf.rank(conv_reshape_layer_2)) \n",
        "\n",
        "pool_2 = max_pool(conv_reshape_layer_2)\n",
        "print(\"pool_2\", pool_2.shape, tf.rank(pool_2)) \n",
        "\n",
        "#===============================================================================\n",
        "conv_out = tf.reshape(pool_2, [-1, BATCH_SIZE*nKernel_1*nKernel_2*int(pool_2.shape[1])])\n",
        "print(\"conv_out\", conv_out.shape, tf.rank(conv_out)) \n",
        "\n",
        "fully_connected_layer_1 = tf.nn.relu(normal_full_layer(conv_out, int(conv_out.shape[1])))\n",
        "print(\"fully_connected_layer_1\", fully_connected_layer_1.shape, tf.rank(fully_connected_layer_1)) \n",
        "\n",
        "dropout_layer_1 = tf.nn.dropout(fully_connected_layer_1, keep_prob=0.3)\n",
        "print(\"dropout_layer_1\", dropout_layer_1.shape, tf.rank(dropout_layer_1)) \n",
        "\n",
        "fully_connected_layer_2 = tf.nn.relu(normal_full_layer(dropout_layer_1, N_wave**3))\n",
        "print(\"fully_connected_layer_2\", fully_connected_layer_2.shape, tf.rank(fully_connected_layer_2)) \n",
        "\n",
        "# dropout_layer_2 = tf.nn.dropout(fully_connected_layer_2, keep_prob=0.1)\n",
        "# print(\"dropout_layer_2\", dropout_layer_2.shape, tf.rank(dropout_layer_2)) \n",
        "\n",
        "#-------------------------------------------------------------------------------\n",
        "y = normal_full_layer(fully_connected_layer_2, N_wave)\n",
        "print(\"y\", y.shape, tf.rank(y)) "
      ],
      "execution_count": 0,
      "outputs": [
        {
          "output_type": "stream",
          "text": [
            "(?, 256)\n",
            "x_input (?, 256, 1) Tensor(\"Rank:0\", shape=(), dtype=int32)\n",
            "conv_kernel_layer_1 (?, 253, 10) Tensor(\"Rank_1:0\", shape=(), dtype=int32)\n",
            "conv_reshape_layer_1 (?, 253, 1, 10) Tensor(\"Rank_2:0\", shape=(), dtype=int32)\n",
            "pool_1 (?, 126, 1, 10) Tensor(\"Rank_3:0\", shape=(), dtype=int32)\n",
            "input_layer_2 (?, 126, 1) Tensor(\"Rank_4:0\", shape=(), dtype=int32)\n",
            "conv_kernel_layer_2 (?, 125, 5) Tensor(\"Rank_5:0\", shape=(), dtype=int32)\n",
            "conv_reshape_layer_2 (?, 125, 1, 5) Tensor(\"Rank_6:0\", shape=(), dtype=int32)\n",
            "pool_2 (?, 62, 1, 5) Tensor(\"Rank_7:0\", shape=(), dtype=int32)\n",
            "conv_out (?, 3100) Tensor(\"Rank_8:0\", shape=(), dtype=int32)\n",
            "fully_connected_layer_1 (?, 3100) Tensor(\"Rank_9:0\", shape=(), dtype=int32)\n",
            "dropout_layer_1 (?, 3100) Tensor(\"Rank_10:0\", shape=(), dtype=int32)\n",
            "fully_connected_layer_2 (?, 64) Tensor(\"Rank_11:0\", shape=(), dtype=int32)\n",
            "y (?, 4) Tensor(\"Rank_12:0\", shape=(), dtype=int32)\n"
          ],
          "name": "stdout"
        }
      ]
    },
    {
      "metadata": {
        "id": "4qLGYT1KrHt4",
        "colab_type": "text"
      },
      "cell_type": "markdown",
      "source": [
        "**Loss Function:**"
      ]
    },
    {
      "metadata": {
        "id": "_oJdJH1InxLf",
        "colab_type": "text"
      },
      "cell_type": "markdown",
      "source": [
        "[Difference Between Sigmoid Function and Softmax Function](http://dataaspirant.com/2017/03/07/difference-between-softmax-function-and-sigmoid-function/)"
      ]
    },
    {
      "metadata": {
        "id": "ITrvZV2C4X28",
        "colab_type": "code",
        "outputId": "a7dbb5a9-f80b-4b9c-bf99-ab1db31a0327",
        "colab": {
          "base_uri": "https://localhost:8080/",
          "height": 15
        }
      },
      "cell_type": "code",
      "source": [
        "import tensorflow as tf\n",
        "\n",
        "print(labels.shape)\n",
        "# pass the second value from iter.get_net() as label\n",
        "# loss = tf.reduce_mean(tf.nn.sigmoid_cross_entropy_with_logits(labels=tf.cast(labels, tf.float32), logits=tf.cast(y, tf.float32)))\n",
        "loss = tf.reduce_mean(tf.nn.softmax_cross_entropy_with_logits_v2(labels=labels, logits=y))\n",
        "# loss = tf.losses.mean_squared_error(y, labels)\n"
      ],
      "execution_count": 0,
      "outputs": [
        {
          "output_type": "stream",
          "text": [
            "(?, 4)\n"
          ],
          "name": "stdout"
        }
      ]
    },
    {
      "metadata": {
        "id": "DoBPh7dorMBK",
        "colab_type": "text"
      },
      "cell_type": "markdown",
      "source": [
        "**Optimizer:**"
      ]
    },
    {
      "metadata": {
        "id": "2-tBgQDg4b8L",
        "colab_type": "code",
        "colab": {}
      },
      "cell_type": "code",
      "source": [
        "import tensorflow as tf\n",
        "\n",
        "train_op = tf.train.AdamOptimizer(learning_rate=1e-4, epsilon=1e-5).minimize(loss)"
      ],
      "execution_count": 0,
      "outputs": []
    },
    {
      "metadata": {
        "id": "Oc1T7koKZ3UZ",
        "colab_type": "text"
      },
      "cell_type": "markdown",
      "source": [
        "**Net Evaluate Operators:**"
      ]
    },
    {
      "metadata": {
        "id": "54KkfbttZ0Jq",
        "colab_type": "code",
        "colab": {}
      },
      "cell_type": "code",
      "source": [
        "import tensorflow as tf\n",
        "\n",
        "correct_pred = tf.equal(tf.argmax(y, 1), tf.argmax(labels, 1))\n",
        "accuracy = tf.reduce_mean(tf.cast(correct_pred, tf.float32))\n"
      ],
      "execution_count": 0,
      "outputs": []
    },
    {
      "metadata": {
        "id": "2RUV8jA4hT5g",
        "colab_type": "text"
      },
      "cell_type": "markdown",
      "source": [
        "# Process Session"
      ]
    },
    {
      "metadata": {
        "id": "Swsn6xblhIOD",
        "colab_type": "text"
      },
      "cell_type": "markdown",
      "source": [
        "**Init Variables:**"
      ]
    },
    {
      "metadata": {
        "id": "ZoZ7A_2P4fX7",
        "colab_type": "code",
        "colab": {}
      },
      "cell_type": "code",
      "source": [
        "import tensorflow as tf\n",
        "\n",
        "init = tf.global_variables_initializer()"
      ],
      "execution_count": 0,
      "outputs": []
    },
    {
      "metadata": {
        "id": "9DK7NIN4mpTd",
        "colab_type": "text"
      },
      "cell_type": "markdown",
      "source": [
        "**Session:**"
      ]
    },
    {
      "metadata": {
        "id": "0MDL8dFN3bin",
        "colab_type": "code",
        "outputId": "59f69dcd-66bb-4990-c7eb-d423005fb6e9",
        "colab": {
          "base_uri": "https://localhost:8080/",
          "height": 1185
        }
      },
      "cell_type": "code",
      "source": [
        "import time\n",
        "import numpy as np\n",
        "import tensorflow as tf\n",
        "\n",
        "\n",
        "with tf.Session() as sess:\n",
        "  writer = tf.summary.FileWriter(\"./Graph\", sess.graph)\n",
        "  print('init variables...')\n",
        "  sess.run(init)\n",
        "\n",
        "  # ==========================================================================\n",
        "  # initialise iterator with train data\n",
        "  print('init iterator...')\n",
        "  sess.run(train_init_op, feed_dict = {x : train_data[0], \n",
        "                                       y_true: train_data[1],\n",
        "                                       #drop_prob_1: float(0.3),\n",
        "                                       batch_size: BATCH_SIZE})\n",
        "\n",
        "\n",
        "  print('Training...')\n",
        "  j=0;\n",
        "  EPOCHS = 100\n",
        "  printStep = 20\n",
        "  lossResultList = []\n",
        "  accResultList = []\n",
        "  epochList = []\n",
        "\n",
        "  timeStamp_list = []\n",
        "  time_rate_list = []\n",
        "  timeStamp_list.append(time.time())\n",
        "\n",
        "  for i in range(int(EPOCHS/printStep)):\n",
        "    tot_loss = 0\n",
        "    tot_acc = 0\n",
        "    for _ in range(printStep):\n",
        "        #print('Training---')\n",
        "        _, loss_value, acc = sess.run([train_op, loss, accuracy])\n",
        "        j+=1\n",
        "        #print('Training:', j)\n",
        "        tot_acc += acc\n",
        "        tot_loss += loss_value\n",
        "\n",
        "    lossResultList.append(tot_loss/printStep)\n",
        "    accResultList.append(tot_acc/printStep)\n",
        "    epochList.append(i)\n",
        "    timeStamp_list.append(time.time() - timeStamp_list[0])\n",
        "    time_rate_list.append(timeStamp_list[i+1] - timeStamp_list[i])\n",
        "    print(\"Iter: {}, Loss: {:.6f}, acc: {:.6f}\\t||timeStamp: {:.2f}, timeRate: {:.2f}\".format(j, \n",
        "                                               tot_loss/printStep, \n",
        "                                               tot_acc/printStep,\n",
        "                                               timeStamp_list[i],\n",
        "                                               time_rate_list[i]))\n",
        "\n",
        "  plt.plot(epochList, accResultList, lossResultList, '-.')     \n",
        "  plt.ylabel('Accuracy and Loss')\n",
        "  plt.xlabel('Step')\n",
        "  plt.show() \n",
        "\n",
        "  # ==========================================================================\n",
        "  # initialise iterator with test data\n",
        "  sess.run(test_init_op, feed_dict = {x : test_data[0], \n",
        "                                      y_true: test_data[1],\n",
        "                                      #drop_prob_1: float(0.3),\n",
        "                                      batch_size:BATCH_SIZE})\n",
        "\n",
        "  print('Testing...')\n",
        "  j=0;\n",
        "  full_loss = 0\n",
        "  full_acc = 0\n",
        "  EPOCHS = 50\n",
        "  evalResulList = []\n",
        "  for i in range(EPOCHS):\n",
        "      tot_loss = 0\n",
        "      tot_acc = 0\n",
        "      for _ in range(BATCH_SIZE):\n",
        "          #print('Training---')\n",
        "          loss_value, acc = sess.run([loss, accuracy])\n",
        "          j+=1\n",
        "          #print('Training:', j)\n",
        "          tot_acc += acc\n",
        "          full_acc += acc\n",
        "          tot_loss += loss_value\n",
        "          full_loss += loss_value\n",
        "\n",
        "      evalResulList.append((j, \n",
        "                        tot_loss/printStep, \n",
        "                        tot_acc/printStep))            \n",
        "      print(\"Iter: {}, Loss: {:.6f}, acc: {:.6f}\".format(i, \n",
        "                                                 tot_loss/BATCH_SIZE, \n",
        "                                                 tot_acc/BATCH_SIZE))\n",
        "\n",
        "  print(\"Test Loss: {}, acc: {}\".format(full_loss/j, full_acc/j))\n",
        "  writer.close()  \n",
        "    "
      ],
      "execution_count": 0,
      "outputs": [
        {
          "output_type": "stream",
          "text": [
            "init variables...\n",
            "init iterator...\n",
            "Training...\n",
            "Iter: 20, Loss: 2.589407, acc: 0.150000\t||timeStamp: 1548032637.73, timeRate: -1548032636.53\n",
            "Iter: 40, Loss: 1.893087, acc: 0.250000\t||timeStamp: 1.20, timeRate: 0.86\n",
            "Iter: 60, Loss: 0.920222, acc: 0.450000\t||timeStamp: 2.05, timeRate: 0.85\n",
            "Iter: 80, Loss: 2.167533, acc: 0.150000\t||timeStamp: 2.91, timeRate: 0.84\n",
            "Iter: 100, Loss: 1.904810, acc: 0.400000\t||timeStamp: 3.74, timeRate: 0.84\n"
          ],
          "name": "stdout"
        },
        {
          "output_type": "display_data",
          "data": {
            "image/png": "[encoded data removed]",
            "text/plain": [
              "<Figure size 432x288 with 1 Axes>"
            ]
          },
          "metadata": {
            "tags": []
          }
        },
        {
          "output_type": "stream",
          "text": [
            "Testing...\n",
            "Iter: 0, Loss: 2.497794, acc: 0.000000\n",
            "Iter: 1, Loss: 3.073205, acc: 0.000000\n",
            "Iter: 2, Loss: 1.769770, acc: 0.000000\n",
            "Iter: 3, Loss: 2.142908, acc: 0.000000\n",
            "Iter: 4, Loss: 2.272065, acc: 0.000000\n",
            "Iter: 5, Loss: 2.263044, acc: 0.000000\n",
            "Iter: 6, Loss: 4.044357, acc: 0.000000\n",
            "Iter: 7, Loss: 2.441105, acc: 0.000000\n",
            "Iter: 8, Loss: 0.364506, acc: 1.000000\n",
            "Iter: 9, Loss: 0.864292, acc: 1.000000\n",
            "Iter: 10, Loss: 2.972155, acc: 0.000000\n",
            "Iter: 11, Loss: 2.771786, acc: 0.000000\n",
            "Iter: 12, Loss: 2.394578, acc: 0.000000\n",
            "Iter: 13, Loss: 2.483208, acc: 0.000000\n",
            "Iter: 14, Loss: 0.426734, acc: 1.000000\n",
            "Iter: 15, Loss: 1.668514, acc: 0.000000\n",
            "Iter: 16, Loss: 1.837722, acc: 0.000000\n",
            "Iter: 17, Loss: 1.150508, acc: 0.000000\n",
            "Iter: 18, Loss: 0.229594, acc: 1.000000\n",
            "Iter: 19, Loss: 0.368040, acc: 1.000000\n",
            "Iter: 20, Loss: 1.648608, acc: 0.000000\n",
            "Iter: 21, Loss: 1.556707, acc: 0.000000\n",
            "Iter: 22, Loss: 1.907296, acc: 0.000000\n",
            "Iter: 23, Loss: 0.909516, acc: 1.000000\n",
            "Iter: 24, Loss: 1.734649, acc: 0.000000\n",
            "Iter: 25, Loss: 0.302767, acc: 1.000000\n",
            "Iter: 26, Loss: 1.517889, acc: 0.000000\n",
            "Iter: 27, Loss: 3.040321, acc: 0.000000\n",
            "Iter: 28, Loss: 0.455692, acc: 1.000000\n",
            "Iter: 29, Loss: 2.625952, acc: 0.000000\n",
            "Iter: 30, Loss: 3.091960, acc: 0.000000\n",
            "Iter: 31, Loss: 2.785642, acc: 0.000000\n",
            "Iter: 32, Loss: 1.168200, acc: 0.000000\n",
            "Iter: 33, Loss: 3.065668, acc: 0.000000\n",
            "Iter: 34, Loss: 0.389067, acc: 1.000000\n",
            "Iter: 35, Loss: 2.274441, acc: 0.000000\n",
            "Iter: 36, Loss: 2.908100, acc: 0.000000\n",
            "Iter: 37, Loss: 2.582331, acc: 0.000000\n",
            "Iter: 38, Loss: 2.803527, acc: 0.000000\n",
            "Iter: 39, Loss: 1.244375, acc: 0.000000\n",
            "Iter: 40, Loss: 0.277529, acc: 1.000000\n",
            "Iter: 41, Loss: 0.076609, acc: 1.000000\n",
            "Iter: 42, Loss: 1.708413, acc: 0.000000\n",
            "Iter: 43, Loss: 1.326589, acc: 0.000000\n",
            "Iter: 44, Loss: 0.749130, acc: 1.000000\n",
            "Iter: 45, Loss: 0.784640, acc: 1.000000\n",
            "Iter: 46, Loss: 1.273615, acc: 0.000000\n",
            "Iter: 47, Loss: 1.956816, acc: 0.000000\n",
            "Iter: 48, Loss: 0.664397, acc: 1.000000\n",
            "Iter: 49, Loss: 0.797826, acc: 1.000000\n",
            "Test Loss: 1.7132831329107285, acc: 0.3\n"
          ],
          "name": "stdout"
        }
      ]
    },
    {
      "metadata": {
        "id": "iNbBLbY_5K9s",
        "colab_type": "code",
        "outputId": "c6891ac4-9be9-4fd7-cf93-915631f824d5",
        "colab": {
          "base_uri": "https://localhost:8080/",
          "height": 119
        }
      },
      "cell_type": "code",
      "source": [
        "!pip install tensorboardcolab\n",
        "from tensorboardcolab import *\n",
        "tbc = TensorBoardColab()\n"
      ],
      "execution_count": 0,
      "outputs": [
        {
          "output_type": "stream",
          "text": [
            "Requirement already satisfied: tensorboardcolab in /usr/local/lib/python3.6/dist-packages (0.0.22)\n"
          ],
          "name": "stdout"
        },
        {
          "output_type": "stream",
          "text": [
            "Using TensorFlow backend.\n"
          ],
          "name": "stderr"
        },
        {
          "output_type": "stream",
          "text": [
            "Wait for 8 seconds...\n",
            "TensorBoard link:\n",
            "http://985e970a.ngrok.io\n"
          ],
          "name": "stdout"
        }
      ]
    }
  ]
}
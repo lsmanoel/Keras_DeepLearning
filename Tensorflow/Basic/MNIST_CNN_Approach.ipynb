{
  "nbformat": 4,
  "nbformat_minor": 0,
  "metadata": {
    "colab": {
      "name": "MNIST_CNN_Approach.ipynb",
      "version": "0.3.2",
      "provenance": [],
      "collapsed_sections": [],
      "include_colab_link": true
    },
    "kernelspec": {
      "name": "python3",
      "display_name": "Python 3"
    }
  },
  "cells": [
    {
      "cell_type": "markdown",
      "metadata": {
        "id": "view-in-github",
        "colab_type": "text"
      },
      "source": [
        "<a href=\"https://colab.research.google.com/github/lsmanoel/pythonLearningAndDeepLearning/blob/master/Tensorflow/Basic/MNIST_CNN_Approach.ipynb\" target=\"_parent\"><img src=\"https://colab.research.google.com/assets/colab-badge.svg\" alt=\"Open In Colab\"/></a>"
      ]
    },
    {
      "metadata": {
        "id": "jicbAhnEllcr",
        "colab_type": "text"
      },
      "cell_type": "markdown",
      "source": [
        "# MNIST - CNN Approach"
      ]
    },
    {
      "metadata": {
        "id": "g9wCtxNnlfut",
        "colab_type": "code",
        "colab": {}
      },
      "cell_type": "code",
      "source": [
        "import tensorflow as tf\n",
        "import time\n",
        "import matplotlib.pyplot as plt\n",
        "%matplotlib inline"
      ],
      "execution_count": 0,
      "outputs": []
    },
    {
      "metadata": {
        "id": "H7YWD3AHlu5Q",
        "colab_type": "code",
        "colab": {}
      },
      "cell_type": "code",
      "source": [
        "from tensorflow.examples.tutorials.mnist import input_data"
      ],
      "execution_count": 0,
      "outputs": []
    },
    {
      "metadata": {
        "id": "DtPWyNKJlxC4",
        "colab_type": "code",
        "colab": {}
      },
      "cell_type": "code",
      "source": [
        "mnist = input_data.read_data_sets(\"MNIST_data/\", one_hot=True)"
      ],
      "execution_count": 0,
      "outputs": []
    },
    {
      "metadata": {
        "id": "wcfiVsMvmP3Y",
        "colab_type": "text"
      },
      "cell_type": "markdown",
      "source": [
        "---\n",
        "\n",
        "# Helper Functions"
      ]
    },
    {
      "metadata": {
        "id": "03B7sMdPmYpS",
        "colab_type": "text"
      },
      "cell_type": "markdown",
      "source": [
        "**Init Weights Functions**"
      ]
    },
    {
      "metadata": {
        "id": "Bu7ClMSNm0em",
        "colab_type": "code",
        "colab": {}
      },
      "cell_type": "code",
      "source": [
        "def init_weights(shape):\n",
        "  init_random_dist = tf.truncated_normal(shape, stddev=0.1)\n",
        "  return tf.Variable(init_random_dist)"
      ],
      "execution_count": 0,
      "outputs": []
    },
    {
      "metadata": {
        "id": "Nhyn-HdgmZVp",
        "colab_type": "text"
      },
      "cell_type": "markdown",
      "source": [
        "**Init Bias Functions**"
      ]
    },
    {
      "metadata": {
        "id": "BATS3CEXm1DD",
        "colab_type": "code",
        "colab": {}
      },
      "cell_type": "code",
      "source": [
        "def init_bias(shape):\n",
        "  init_bias_vals = tf.constant(0.1, shape=shape)\n",
        "  return tf.Variable(init_bias_vals)"
      ],
      "execution_count": 0,
      "outputs": []
    },
    {
      "metadata": {
        "id": "4t-lzhICmZ2y",
        "colab_type": "text"
      },
      "cell_type": "markdown",
      "source": [
        "**Convolutional Functions**"
      ]
    },
    {
      "metadata": {
        "id": "cQfxNajkm1aE",
        "colab_type": "code",
        "colab": {}
      },
      "cell_type": "code",
      "source": [
        "def conv2d(x, w):\n",
        "  # x --> [batch, hight, width, channels]\n",
        "  # y --> [filter hight, filter width, channels in, channels out]\n",
        "  \n",
        "  return tf.nn.conv2d(x, w, strides=[1, 1, 1, 1], padding='SAME')"
      ],
      "execution_count": 0,
      "outputs": []
    },
    {
      "metadata": {
        "id": "Ans7jO5Mmr7u",
        "colab_type": "text"
      },
      "cell_type": "markdown",
      "source": [
        "**Pooling Functions**"
      ]
    },
    {
      "metadata": {
        "id": "g-WymEcdm1-J",
        "colab_type": "code",
        "colab": {}
      },
      "cell_type": "code",
      "source": [
        "def max_pool_2x2(x):\n",
        "  # x --> [batch, hight, width, channels]\n",
        "  return tf.nn.max_pool(x, ksize=[1, 2, 2, 1], strides=[1, 2, 2, 1], padding='SAME')"
      ],
      "execution_count": 0,
      "outputs": []
    },
    {
      "metadata": {
        "id": "y0iS7OCXYZ23",
        "colab_type": "text"
      },
      "cell_type": "markdown",
      "source": [
        "---\n",
        "# Placeholders"
      ]
    },
    {
      "metadata": {
        "id": "d0LYc8eSX7As",
        "colab_type": "code",
        "colab": {}
      },
      "cell_type": "code",
      "source": [
        "x = tf.placeholder(tf.float32, shape=[None, 784])\n",
        "y_true = tf.placeholder(tf.float32, shape=[None, 10])\n",
        "drop_prob_1 = tf.placeholder(tf.float32)"
      ],
      "execution_count": 0,
      "outputs": []
    },
    {
      "metadata": {
        "id": "QJ0SQrPfVfKE",
        "colab_type": "text"
      },
      "cell_type": "markdown",
      "source": [
        "---\n",
        "# Layers:\n",
        "\n",
        "\n"
      ]
    },
    {
      "metadata": {
        "id": "NQxuzBp8WoXC",
        "colab_type": "text"
      },
      "cell_type": "markdown",
      "source": [
        "**Convolutional Layer Function:**"
      ]
    },
    {
      "metadata": {
        "id": "r9SANOopV2GX",
        "colab_type": "code",
        "colab": {}
      },
      "cell_type": "code",
      "source": [
        "def convolutional_layer(input_x, shape):\n",
        "  w = init_weights(shape)\n",
        "  b = init_bias([shape[3]])\n",
        "  return tf.nn.relu(conv2d(input_x, w) + b)"
      ],
      "execution_count": 0,
      "outputs": []
    },
    {
      "metadata": {
        "id": "oxtwnOoHWvZz",
        "colab_type": "text"
      },
      "cell_type": "markdown",
      "source": [
        "**Fully Connected Layer Function::**"
      ]
    },
    {
      "metadata": {
        "id": "yi5Sk-itVjIp",
        "colab_type": "code",
        "colab": {}
      },
      "cell_type": "code",
      "source": [
        "def normal_full_layer(input_layer, size):\n",
        "  input_size = int(input_layer.get_shape()[1])\n",
        "  w = init_weights([input_size, size])\n",
        "  b = init_bias([size])\n",
        "  return tf.matmul(input_layer, w) + b"
      ],
      "execution_count": 0,
      "outputs": []
    },
    {
      "metadata": {
        "id": "FbZ3439weS-m",
        "colab_type": "text"
      },
      "cell_type": "markdown",
      "source": [
        "**Graph Structure Layers:**"
      ]
    },
    {
      "metadata": {
        "id": "9BuJbe_kZ3BS",
        "colab_type": "code",
        "colab": {}
      },
      "cell_type": "code",
      "source": [
        "x_image = tf.reshape(x, [-1, 28, 28, 1])\n",
        "\n",
        "conv_kernel_layer_1 = convolutional_layer(x_image, shape=[5, 5, 1, 32])\n",
        "conv_pooling_layer_1 = max_pool_2x2(conv_kernel_layer_1)\n",
        "\n",
        "conv_kernel_layer_2 = convolutional_layer(conv_pooling_layer_1, shape=[5, 5, 32, 64])\n",
        "conv_pooling_layer_2 = max_pool_2x2(conv_kernel_layer_2)\n",
        "\n",
        "flat_layer = tf.reshape(conv_pooling_layer_2, [-1, 7*7*64])\n",
        "\n",
        "fully_connected_layer_1 = tf.nn.relu(normal_full_layer(flat_layer, 1024))\n",
        "\n",
        "dropout_layer_1 = tf.nn.dropout(fully_connected_layer_1, keep_prob=drop_prob_1)\n",
        "\n",
        "y = normal_full_layer(dropout_layer_1, 10)"
      ],
      "execution_count": 0,
      "outputs": []
    },
    {
      "metadata": {
        "id": "9OgUTbOYe75Z",
        "colab_type": "text"
      },
      "cell_type": "markdown",
      "source": [
        "---\n",
        "**Loss Function:**\n",
        "\n",
        "**Surprisal:** Degree of surprise for a result obtained.\n",
        "$$s = log\\left(\\frac{1}{y_j}\\right)$$\n",
        "\n",
        "**Entropy:** Weighted average of surprisals obtained. Since we know the probability of each outcome, this probability can be considered as the weight\n",
        "$$e = \\sum_{j=0}^{n} y_j \\times log\\left(\\frac{1}{y_j}\\right)$$\n",
        "\n",
        "**Cross Entropy:** Weighted average of surprisals obtained. Now the weighting is reached by the real probability $y\\_true_j$ (considering that the probability obtained, $y_j$, is not necessarily the correct one).\n",
        "$$c = \\sum_{j=0}^{n} y\\_true_j \\times log\\left(\\frac{1}{y_j}\\right)$$\n",
        "When the estimated probability distribution moves away from truel/desired probability distribution, cross entropy increases and vice-versa. That's why this formula is also called cross Cross Entropy Loss. The training process will attempt to minimize the Cross Entropy Loss."
      ]
    },
    {
      "metadata": {
        "id": "fLPURq7jfAOH",
        "colab_type": "code",
        "colab": {}
      },
      "cell_type": "code",
      "source": [
        "cross_entropy = tf.reduce_mean(tf.nn.softmax_cross_entropy_with_logits_v2(labels=y_true, \n",
        "                                                                          logits=y))"
      ],
      "execution_count": 0,
      "outputs": []
    },
    {
      "metadata": {
        "id": "SSK6PMDwYVpv",
        "colab_type": "text"
      },
      "cell_type": "markdown",
      "source": [
        "**Optimizer:**\n",
        "\n",
        "Adam -  Adaptive Moment Estimation.\n",
        "\n",
        "Algorithmor for first-order gradient-based optimization of\n",
        "stochastic  objective  functions.\n",
        "\n",
        "[More about Adam](https://arxiv.org/pdf/1412.6980.pdf)\n"
      ]
    },
    {
      "metadata": {
        "id": "sS0DxvmDfMHM",
        "colab_type": "code",
        "colab": {}
      },
      "cell_type": "code",
      "source": [
        "optimizer = tf.train.AdamOptimizer(learning_rate=0.001)\n",
        "train = optimizer.minimize(cross_entropy)"
      ],
      "execution_count": 0,
      "outputs": []
    },
    {
      "metadata": {
        "id": "2RUV8jA4hT5g",
        "colab_type": "text"
      },
      "cell_type": "markdown",
      "source": [
        "# Process Session"
      ]
    },
    {
      "metadata": {
        "id": "Swsn6xblhIOD",
        "colab_type": "text"
      },
      "cell_type": "markdown",
      "source": [
        "**Init Variables:**"
      ]
    },
    {
      "metadata": {
        "id": "c5lOahZUhG6-",
        "colab_type": "code",
        "colab": {}
      },
      "cell_type": "code",
      "source": [
        "init = tf.global_variables_initializer()\n"
      ],
      "execution_count": 0,
      "outputs": []
    },
    {
      "metadata": {
        "id": "9DK7NIN4mpTd",
        "colab_type": "text"
      },
      "cell_type": "markdown",
      "source": [
        "**Session:**"
      ]
    },
    {
      "metadata": {
        "id": "OqsYxBgNfu16",
        "colab_type": "code",
        "colab": {
          "base_uri": "https://localhost:8080/",
          "height": 1061
        },
        "outputId": "e0005ad1-951e-4c5c-9a1a-37c4d4c966e9"
      },
      "cell_type": "code",
      "source": [
        "steps = 1000\n",
        "print_step = 50\n",
        "\n",
        "with tf.Session() as sess:\n",
        "  \n",
        "  sess.run(init)\n",
        "  \n",
        "  #-----------------------------------------------------------------------------\n",
        "  #Train:\n",
        "  timeStamp_list = []\n",
        "  time_rate_list = []\n",
        "  accuracy_list = []\n",
        "  accuracy_rate_list = []\n",
        "  steps_list = []\n",
        "  accuracy_rate_list.append(1.0)\n",
        "  time_rate_list.append(0.0)\n",
        "  \n",
        "  startTime = time.time()\n",
        "  \n",
        "  for i in range(steps+1):\n",
        "    \n",
        "    batch_x, batch_y = mnist.train.next_batch(50)\n",
        "    \n",
        "    sess.run(train, feed_dict={x:batch_x, y_true:batch_y, drop_prob_1:0.5})\n",
        "    \n",
        "    if i%print_step == 0:\n",
        "      \n",
        "      #-------------------------------------------------------------------------\n",
        "      #Evaluation:\n",
        "      correct_prediction = tf.equal(tf.argmax(y, 1), tf.argmax(y_true, 1))\n",
        "      \n",
        "      #[1.0, 0.0, 1.0, ...] <--(cast to float) [True, False, True, ...]\n",
        "      accuracy = tf.reduce_mean(tf.cast(correct_prediction, tf.float32))\n",
        "      \n",
        "      #-------------------------------------------------------------------------\n",
        "      #Test:\n",
        "      steps_list.append(i)\n",
        "      accuracy_list.append(sess.run(accuracy, feed_dict={x:mnist.test.images, \n",
        "                                          y_true:mnist.test.labels,\n",
        "                                          drop_prob_1:0.5}))\n",
        "      \n",
        "      timeStamp_list.append(time.time() - startTime)\n",
        "      \n",
        "      markerline, stemlines, baseline = plt.stem(steps_list, accuracy_list, '-.')     \n",
        "      plt.setp(baseline, color='r', linewidth=2)\n",
        "      \n",
        "      if int(i/print_step)>0:\n",
        "        accuracy_rate_list.append((accuracy_list[int(i/print_step)] - accuracy_list[int(i/print_step)-1])/i)\n",
        "        time_rate_list.append(timeStamp_list[int(i/print_step)] - timeStamp_list[int(i/print_step)-1])\n",
        "        \n",
        "      print(\"[{}]\\t On Step: {}\\t||Accuracy: {:.2f} AccProgRate: {:.6f}||TimeStamp: {:.2f} TimeRate: {:.2f}\".format(int(i/print_step), \n",
        "                                                                          i, \n",
        "                                                                          accuracy_list[int(i/print_step)],\n",
        "                                                                          accuracy_rate_list[int(i/print_step)],\n",
        "                                                                          timeStamp_list[int(i/print_step)],\n",
        "                                                                          time_rate_list[int(i/print_step)]))\n",
        "      print(\"-----------------------------------------------------------------------------\")\n",
        "  \n",
        "  plt.ylabel('Accuracy')\n",
        "  plt.xlabel('Step')\n",
        "  plt.show()\n",
        "  print(\"Final Accuracy: {}||Time Stamp:{} seconds\".format(accuracy_list[int(i/print_step)], \n",
        "                                                   timeStamp_list[int(i/print_step)]))\n",
        "  print(\"-----------------------------------------------------------------------------\")\n",
        "  print(\"=============================================================================\")"
      ],
      "execution_count": 33,
      "outputs": [
        {
          "output_type": "stream",
          "text": [
            "[0]\t On Step: 0\t||Accuracy: 0.13 AccProgRate: 1.000000||TimeStamp: 9.04 TimeRate: 0.00\n",
            "-----------------------------------------------------------------------------\n",
            "[1]\t On Step: 50\t||Accuracy: 0.86 AccProgRate: 0.014630||TimeStamp: 25.37 TimeRate: 16.33\n",
            "-----------------------------------------------------------------------------\n",
            "[2]\t On Step: 100\t||Accuracy: 0.92 AccProgRate: 0.000607||TimeStamp: 41.69 TimeRate: 16.31\n",
            "-----------------------------------------------------------------------------\n",
            "[3]\t On Step: 150\t||Accuracy: 0.94 AccProgRate: 0.000139||TimeStamp: 58.06 TimeRate: 16.38\n",
            "-----------------------------------------------------------------------------\n",
            "[4]\t On Step: 200\t||Accuracy: 0.95 AccProgRate: 0.000047||TimeStamp: 74.39 TimeRate: 16.33\n",
            "-----------------------------------------------------------------------------\n",
            "[5]\t On Step: 250\t||Accuracy: 0.95 AccProgRate: 0.000018||TimeStamp: 90.70 TimeRate: 16.30\n",
            "-----------------------------------------------------------------------------\n",
            "[6]\t On Step: 300\t||Accuracy: 0.96 AccProgRate: 0.000034||TimeStamp: 107.00 TimeRate: 16.31\n",
            "-----------------------------------------------------------------------------\n",
            "[7]\t On Step: 350\t||Accuracy: 0.96 AccProgRate: -0.000005||TimeStamp: 123.37 TimeRate: 16.36\n",
            "-----------------------------------------------------------------------------\n",
            "[8]\t On Step: 400\t||Accuracy: 0.97 AccProgRate: 0.000021||TimeStamp: 139.70 TimeRate: 16.33\n",
            "-----------------------------------------------------------------------------\n",
            "[9]\t On Step: 450\t||Accuracy: 0.97 AccProgRate: -0.000007||TimeStamp: 156.05 TimeRate: 16.35\n",
            "-----------------------------------------------------------------------------\n",
            "[10]\t On Step: 500\t||Accuracy: 0.97 AccProgRate: 0.000002||TimeStamp: 172.39 TimeRate: 16.34\n",
            "-----------------------------------------------------------------------------\n",
            "[11]\t On Step: 550\t||Accuracy: 0.97 AccProgRate: 0.000008||TimeStamp: 188.87 TimeRate: 16.48\n",
            "-----------------------------------------------------------------------------\n",
            "[12]\t On Step: 600\t||Accuracy: 0.97 AccProgRate: -0.000003||TimeStamp: 205.78 TimeRate: 16.91\n",
            "-----------------------------------------------------------------------------\n",
            "[13]\t On Step: 650\t||Accuracy: 0.97 AccProgRate: 0.000003||TimeStamp: 222.08 TimeRate: 16.30\n",
            "-----------------------------------------------------------------------------\n",
            "[14]\t On Step: 700\t||Accuracy: 0.98 AccProgRate: 0.000011||TimeStamp: 238.39 TimeRate: 16.30\n",
            "-----------------------------------------------------------------------------\n",
            "[15]\t On Step: 750\t||Accuracy: 0.98 AccProgRate: -0.000004||TimeStamp: 254.69 TimeRate: 16.30\n",
            "-----------------------------------------------------------------------------\n",
            "[16]\t On Step: 800\t||Accuracy: 0.98 AccProgRate: -0.000000||TimeStamp: 271.00 TimeRate: 16.31\n",
            "-----------------------------------------------------------------------------\n",
            "[17]\t On Step: 850\t||Accuracy: 0.98 AccProgRate: -0.000000||TimeStamp: 287.29 TimeRate: 16.29\n",
            "-----------------------------------------------------------------------------\n",
            "[18]\t On Step: 900\t||Accuracy: 0.98 AccProgRate: 0.000005||TimeStamp: 303.81 TimeRate: 16.52\n",
            "-----------------------------------------------------------------------------\n",
            "[19]\t On Step: 950\t||Accuracy: 0.98 AccProgRate: 0.000000||TimeStamp: 320.11 TimeRate: 16.31\n",
            "-----------------------------------------------------------------------------\n",
            "[20]\t On Step: 1000\t||Accuracy: 0.98 AccProgRate: -0.000004||TimeStamp: 336.50 TimeRate: 16.38\n",
            "-----------------------------------------------------------------------------\n"
          ],
          "name": "stdout"
        },
        {
          "output_type": "display_data",
          "data": {
            "image/png": "[encoded data removed]",
            "text/plain": [
              "<matplotlib.figure.Figure at 0x7fdd6c875860>"
            ]
          },
          "metadata": {
            "tags": []
          }
        },
        {
          "output_type": "stream",
          "text": [
            "Final Accuracy: 0.9757000207901001||Time Stamp:336.4966950416565 seconds\n",
            "-----------------------------------------------------------------------------\n",
            "=============================================================================\n"
          ],
          "name": "stdout"
        }
      ]
    }
  ]
}
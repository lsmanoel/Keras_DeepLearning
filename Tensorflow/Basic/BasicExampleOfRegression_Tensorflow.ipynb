{
  "nbformat": 4,
  "nbformat_minor": 0,
  "metadata": {
    "colab": {
      "name": "BasicExampleOfRegression_Tensorflow.ipynb",
      "version": "0.3.2",
      "provenance": [],
      "collapsed_sections": [],
      "include_colab_link": true
    },
    "kernelspec": {
      "name": "python3",
      "display_name": "Python 3"
    }
  },
  "cells": [
    {
      "cell_type": "markdown",
      "metadata": {
        "id": "view-in-github",
        "colab_type": "text"
      },
      "source": [
        "<a href=\"https://colab.research.google.com/github/lsmanoel/pythonLearningAndDeepLearning/blob/master/Tensorflow/Basic/BasicExampleOfRegression_Tensorflow.ipynb\" target=\"_parent\"><img src=\"https://colab.research.google.com/assets/colab-badge.svg\" alt=\"Open In Colab\"/></a>"
      ]
    },
    {
      "metadata": {
        "id": "l-g1alK-0LwW",
        "colab_type": "text"
      },
      "cell_type": "markdown",
      "source": [
        "# Regression example with Tensorflow"
      ]
    },
    {
      "metadata": {
        "id": "Hc7Go7tZz_IG",
        "colab_type": "code",
        "colab": {}
      },
      "cell_type": "code",
      "source": [
        "import numpy as np\n",
        "import tensorflow as tf\n",
        "import matplotlib.pyplot as plt\n",
        "%matplotlib inline"
      ],
      "execution_count": 0,
      "outputs": []
    },
    {
      "metadata": {
        "id": "0u92qlVm0bNT",
        "colab_type": "text"
      },
      "cell_type": "markdown",
      "source": [
        "**Artifical Data Generation:**"
      ]
    },
    {
      "metadata": {
        "id": "u1LcgYkb0y-w",
        "colab_type": "code",
        "colab": {
          "base_uri": "https://localhost:8080/",
          "height": 282
        },
        "outputId": "eb898a77-247e-4f14-81ae-47429debb331"
      },
      "cell_type": "code",
      "source": [
        "x_data = np.linspace(0,10,10) + np.random.uniform(-1.5,1.5,10)\n",
        "y_label = np.linspace(0,3,10)*np.linspace(0,3,10) + np.random.uniform(-1.5,1.5,10)\n",
        "plt.plot(x_data,y_label,'*')"
      ],
      "execution_count": 9,
      "outputs": [
        {
          "output_type": "execute_result",
          "data": {
            "text/plain": [
              "[<matplotlib.lines.Line2D at 0x7f02e2365b38>]"
            ]
          },
          "metadata": {
            "tags": []
          },
          "execution_count": 9
        },
        {
          "output_type": "display_data",
          "data": {
            "image/png": "[encoded data removed]",
            "text/plain": [
              "<matplotlib.figure.Figure at 0x7f02e23dd128>"
            ]
          },
          "metadata": {
            "tags": []
          }
        }
      ]
    },
    {
      "metadata": {
        "id": "__Yp8QcC1b3H",
        "colab_type": "text"
      },
      "cell_type": "markdown",
      "source": [
        "** Variables :**"
      ]
    },
    {
      "metadata": {
        "id": "XipzNgK11g6b",
        "colab_type": "code",
        "colab": {}
      },
      "cell_type": "code",
      "source": [
        "a1 = tf.Variable(0.1)\n",
        "a2 = tf.Variable(0.1)\n",
        "b = tf.Variable(0.1)"
      ],
      "execution_count": 0,
      "outputs": []
    },
    {
      "metadata": {
        "id": "i0FEJnpZ115W",
        "colab_type": "text"
      },
      "cell_type": "markdown",
      "source": [
        "**Cost Function:**"
      ]
    },
    {
      "metadata": {
        "id": "QZ_U3UCs14xq",
        "colab_type": "code",
        "colab": {}
      },
      "cell_type": "code",
      "source": [
        "error = 0\n",
        "\n",
        "for x,y in zip(x_data,y_label):\n",
        "    \n",
        "    y_hat = a1*x*x + a2*x + b  #Our predicted value\n",
        "    \n",
        "    error += (y-y_hat)**2 # The cost we want to minimize (we'll need to use an optimization function for the minimization!)\n",
        "\n",
        "    "
      ],
      "execution_count": 0,
      "outputs": []
    },
    {
      "metadata": {
        "id": "KmWkGIT119fZ",
        "colab_type": "text"
      },
      "cell_type": "markdown",
      "source": [
        "**Optimizer:**"
      ]
    },
    {
      "metadata": {
        "id": "xaMkUufp2BAe",
        "colab_type": "code",
        "colab": {}
      },
      "cell_type": "code",
      "source": [
        "optimizer = tf.train.GradientDescentOptimizer(learning_rate=0.00001)\n",
        "train = optimizer.minimize(error)"
      ],
      "execution_count": 0,
      "outputs": []
    },
    {
      "metadata": {
        "id": "y0knG4-_2Dvt",
        "colab_type": "text"
      },
      "cell_type": "markdown",
      "source": [
        "**Initialization of variables:**"
      ]
    },
    {
      "metadata": {
        "id": "19Cr1kpD2ql5",
        "colab_type": "code",
        "colab": {}
      },
      "cell_type": "code",
      "source": [
        "init = tf.global_variables_initializer()"
      ],
      "execution_count": 0,
      "outputs": []
    },
    {
      "metadata": {
        "id": "JIlv6D2K2uUv",
        "colab_type": "text"
      },
      "cell_type": "markdown",
      "source": [
        "**Session and Run:**"
      ]
    },
    {
      "metadata": {
        "id": "u11P49PU2zhq",
        "colab_type": "code",
        "colab": {
          "base_uri": "https://localhost:8080/",
          "height": 34
        },
        "outputId": "04e44aa9-78e8-4fe3-9a4b-37471e325fbc"
      },
      "cell_type": "code",
      "source": [
        "with tf.Session() as sess:\n",
        "    \n",
        "    sess.run(init)\n",
        "    \n",
        "    epochs = 1000\n",
        "    \n",
        "    for i in range(epochs):\n",
        "        \n",
        "        sess.run(train)\n",
        "        \n",
        "\n",
        "    # Fetch Back Results\n",
        "    final_slope1, final_slope2, final_intercept = sess.run([a1, a2, b])\n",
        "    print(final_slope1, final_slope2, final_intercept)"
      ],
      "execution_count": 74,
      "outputs": [
        {
          "output_type": "stream",
          "text": [
            "0.107168004 0.06864947 0.106731184\n"
          ],
          "name": "stdout"
        }
      ]
    },
    {
      "metadata": {
        "id": "OOPR1OfG23Eb",
        "colab_type": "text"
      },
      "cell_type": "markdown",
      "source": [
        "**Evaluation of Results:**"
      ]
    },
    {
      "metadata": {
        "id": "I3tg5hTc2-Nn",
        "colab_type": "code",
        "colab": {
          "base_uri": "https://localhost:8080/",
          "height": 282
        },
        "outputId": "a19031b0-72a1-461c-f79a-6c0f61a8eb84"
      },
      "cell_type": "code",
      "source": [
        "x_test = np.linspace(-1,11,10)\n",
        "y_pred_plot = final_slope1*x_test*x_test + final_slope2*x_test + final_intercept\n",
        "\n",
        "plt.plot(x_test,y_pred_plot,'r')\n",
        "\n",
        "plt.plot(x_data,y_label,'*')"
      ],
      "execution_count": 75,
      "outputs": [
        {
          "output_type": "execute_result",
          "data": {
            "text/plain": [
              "[<matplotlib.lines.Line2D at 0x7f02ce4cb0f0>]"
            ]
          },
          "metadata": {
            "tags": []
          },
          "execution_count": 75
        },
        {
          "output_type": "display_data",
          "data": {
            "image/png": "[encoded data removed]",
            "text/plain": [
              "<matplotlib.figure.Figure at 0x7f02ce4cb128>"
            ]
          },
          "metadata": {
            "tags": []
          }
        }
      ]
    }
  ]
}
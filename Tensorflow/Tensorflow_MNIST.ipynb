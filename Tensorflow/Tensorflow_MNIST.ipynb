{
  "nbformat": 4,
  "nbformat_minor": 0,
  "metadata": {
    "colab": {
      "name": "Tensorflow_MNIST.ipynb",
      "version": "0.3.2",
      "provenance": [],
      "collapsed_sections": [],
      "include_colab_link": true
    },
    "kernelspec": {
      "name": "python3",
      "display_name": "Python 3"
    }
  },
  "cells": [
    {
      "cell_type": "markdown",
      "metadata": {
        "id": "view-in-github",
        "colab_type": "text"
      },
      "source": [
        "<a href=\"https://colab.research.google.com/github/lsmanoel/pythonLearningAndDeepLearning/blob/master/Tensorflow/Tensorflow_MNIST.ipynb\" target=\"_parent\"><img src=\"https://colab.research.google.com/assets/colab-badge.svg\" alt=\"Open In Colab\"/></a>"
      ]
    },
    {
      "metadata": {
        "id": "tYRj7QKFWiOh",
        "colab_type": "text"
      },
      "cell_type": "markdown",
      "source": [
        "# A simple Net using Tensorflow to recognize handwritten digits - Deep Learning\n",
        "\n",
        "A simple exemple by [digitalocean.com](https://www.digitalocean.com/community/tutorials/how-to-build-a-neural-network-to-recognize-handwritten-digits-with-tensorflow)\n",
        "to implement a Deep Learning base Neural Network. Thks **Ellie Birbeck** for this didactic demostration. The Net that will be implemented has the architectures shown in the image: \n",
        "\n",
        "![Source: digitalocean.com](https://assets.digitalocean.com/articles/handwriting_tensorflow_python3/cnwitLM.png)\n",
        "[Source](https://www.digitalocean.com/community/tutorials/como-construir-uma-rede-neural-para-reconhecer-digitos-manuscritos-com-o-tensorflow-pt) \n"
      ]
    },
    {
      "metadata": {
        "id": "fJlOho2QOBvE",
        "colab_type": "code",
        "colab": {
          "base_uri": "https://localhost:8080/",
          "height": 295
        },
        "outputId": "175cf43b-c618-483f-f257-9b0d43194bc0"
      },
      "cell_type": "code",
      "source": [
        "import tensorflow as tf\n",
        "\n",
        "#-------------------------------------------------------------------------------\n",
        "# Load Dataset:\n",
        "from tensorflow.examples.tutorials.mnist import input_data\n",
        "mnist = input_data.read_data_sets(\"MNIST_data/\", one_hot=True) # y labels are oh-encoded\n",
        "\n",
        "n_train = mnist.train.num_examples # 55,000\n",
        "n_validation = mnist.validation.num_examples # 5000\n",
        "n_test = mnist.test.num_examples # 10,000\n",
        "\n",
        "#-------------------------------------------------------------------------------\n",
        "# Net Config:\n",
        "n_input = 784   # input layer (28x28 pixels)\n",
        "n_hidden1 = 512 # 1st hidden layer\n",
        "n_hidden2 = 256 # 2nd hidden layer\n",
        "n_hidden3 = 128 # 3rd hidden layer\n",
        "n_output = 10   # output layer (0-9 digits)\n",
        "\n",
        "learning_rate = 1e-4\n",
        "n_iterations = 1000\n",
        "batch_size = 128\n",
        "dropout = 0.5\n",
        "\n",
        "\n",
        "#-------------------------------------------------------------------------------\n",
        "# Net Architectures - The Graph:\n",
        "X = tf.placeholder(\"float\", [None, n_input])\n",
        "Y = tf.placeholder(\"float\", [None, n_output])\n",
        "keep_prob = tf.placeholder(tf.float32)\n",
        "\n",
        "weights = {\n",
        "    'w1': tf.Variable(tf.truncated_normal([n_input, n_hidden1], stddev=0.1)),\n",
        "    'w2': tf.Variable(tf.truncated_normal([n_hidden1, n_hidden2], stddev=0.1)),\n",
        "    'w3': tf.Variable(tf.truncated_normal([n_hidden2, n_hidden3], stddev=0.1)),\n",
        "    'out': tf.Variable(tf.truncated_normal([n_hidden3, n_output], stddev=0.1)),\n",
        "}\n",
        "\n",
        "\n",
        "biases = {\n",
        "    'b1': tf.Variable(tf.constant(0.1, shape=[n_hidden1])),\n",
        "    'b2': tf.Variable(tf.constant(0.1, shape=[n_hidden2])),\n",
        "    'b3': tf.Variable(tf.constant(0.1, shape=[n_hidden3])),\n",
        "    'out': tf.Variable(tf.constant(0.1, shape=[n_output]))\n",
        "}\n",
        "\n",
        "layer_1 = tf.add(tf.matmul(X, weights['w1']), biases['b1'])\n",
        "layer_2 = tf.add(tf.matmul(layer_1, weights['w2']), biases['b2'])\n",
        "layer_3 = tf.add(tf.matmul(layer_2, weights['w3']), biases['b3'])\n",
        "layer_drop = tf.nn.dropout(layer_3, keep_prob)\n",
        "output_layer = tf.matmul(layer_3, weights['out']) + biases['out']\n",
        "\n",
        "#-------------------------------------------------------------------------------\n",
        "# Net Fit Functions:\n",
        "cross_entropy = tf.reduce_mean(tf.nn.softmax_cross_entropy_with_logits_v2(labels=Y, logits=output_layer))\n",
        "train_step = tf.train.AdamOptimizer(1e-4).minimize(cross_entropy)\n",
        "\n",
        "#-------------------------------------------------------------------------------\n",
        "# Net Evaluate Functions:\n",
        "correct_pred = tf.equal(tf.argmax(output_layer, 1), tf.argmax(Y, 1))\n",
        "accuracy = tf.reduce_mean(tf.cast(correct_pred, tf.float32))\n",
        "\n",
        "#-------------------------------------------------------------------------------\n",
        "# Run Config:\n",
        "init = tf.global_variables_initializer()\n",
        "sess = tf.Session()\n",
        "sess.run(init)\n",
        "\n",
        "#-------------------------------------------------------------------------------\n",
        "# Run train on mini batches\n",
        "for i in range(n_iterations):\n",
        "    batch_x, batch_y = mnist.train.next_batch(batch_size)\n",
        "    sess.run(train_step, feed_dict={X: batch_x, Y: batch_y, keep_prob:dropout})\n",
        "\n",
        "    # print loss and accuracy (per minibatch)\n",
        "    if i%100==0:\n",
        "        minibatch_loss, minibatch_accuracy = sess.run([cross_entropy, accuracy], feed_dict={X: batch_x, Y: batch_y, keep_prob:1.0})\n",
        "        print(\"Iteration\", str(i), \"\\t| Loss =\", str(minibatch_loss), \"\\t| Accuracy =\", str(minibatch_accuracy))\n",
        "\n",
        "#-------------------------------------------------------------------------------\n",
        "# Run Test\n",
        "test_accuracy = sess.run(accuracy, feed_dict={X: mnist.test.images, Y: mnist.test.labels, keep_prob:1.0})\n",
        "print(\"\\nAccuracy on test set:\", test_accuracy)        "
      ],
      "execution_count": 8,
      "outputs": [
        {
          "output_type": "stream",
          "text": [
            "Extracting MNIST_data/train-images-idx3-ubyte.gz\n",
            "Extracting MNIST_data/train-labels-idx1-ubyte.gz\n",
            "Extracting MNIST_data/t10k-images-idx3-ubyte.gz\n",
            "Extracting MNIST_data/t10k-labels-idx1-ubyte.gz\n",
            "Iteration 0 \t| Loss = 3.3001502 \t| Accuracy = 0.109375\n",
            "Iteration 100 \t| Loss = 0.5718136 \t| Accuracy = 0.828125\n",
            "Iteration 200 \t| Loss = 0.44090348 \t| Accuracy = 0.8828125\n",
            "Iteration 300 \t| Loss = 0.37062013 \t| Accuracy = 0.8828125\n",
            "Iteration 400 \t| Loss = 0.3162076 \t| Accuracy = 0.921875\n",
            "Iteration 500 \t| Loss = 0.23818952 \t| Accuracy = 0.921875\n",
            "Iteration 600 \t| Loss = 0.35121247 \t| Accuracy = 0.8671875\n",
            "Iteration 700 \t| Loss = 0.20537658 \t| Accuracy = 0.9296875\n",
            "Iteration 800 \t| Loss = 0.38748917 \t| Accuracy = 0.90625\n",
            "Iteration 900 \t| Loss = 0.24222265 \t| Accuracy = 0.9453125\n",
            "\n",
            "Accuracy on test set: 0.9149\n"
          ],
          "name": "stdout"
        }
      ]
    },
    {
      "metadata": {
        "id": "yWWEJPb4aRY5",
        "colab_type": "text"
      },
      "cell_type": "markdown",
      "source": [
        "In this exemple we successfully trained a neural network to classify the MNIST dataset with around 92% accuracy. Current state-of-the-art research achieves around 99% on this same problem, using more complex network architectures involving convolutional layers."
      ]
    },
    {
      "metadata": {
        "id": "7UiiD9OGcb7D",
        "colab_type": "text"
      },
      "cell_type": "markdown",
      "source": [
        "[Tensorflow Documentation](https://www.tensorflow.org/api_docs/python/tf)"
      ]
    }
  ]
}